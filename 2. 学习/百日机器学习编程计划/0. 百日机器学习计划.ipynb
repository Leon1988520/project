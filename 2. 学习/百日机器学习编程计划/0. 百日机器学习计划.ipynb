{
 "cells": [
  {
   "cell_type": "markdown",
   "metadata": {},
   "source": [
    "# 百日机器学习编程计划\n",
    "\n",
    "[github地址](https://github.com/Avik-Jain/100-Days-Of-ML-Code)\n",
    "\n",
    "目录\n",
    "\n",
    "1. day1 [2018年7月31日](#day1)"
   ]
  },
  {
   "cell_type": "markdown",
   "metadata": {},
   "source": [
    "# <a id=\"day1\">第一天：数据预处理</a>\n",
    "\n",
    "> data preprocessing:getting started with machine learning\n",
    "\n",
    "1. import the required librares\n",
    "2. import data set\n",
    "3. handle missing data\n",
    "4. encoding categorical data\n",
    "5. split data into train and test data set\n",
    "6. feature scale"
   ]
  },
  {
   "cell_type": "markdown",
   "metadata": {
    "collapsed": true
   },
   "source": [
    "## [第二天：简单线性回归](https://github.com/Avik-Jain/100-Days-Of-ML-Code/blob/master/Code/Day2_Simple_Linear_Regression.md)"
   ]
  },
  {
   "cell_type": "markdown",
   "metadata": {},
   "source": [
    "1. data proprecessing\n",
    "2. fitting simple linear regression to the train set\n",
    "3. predicting the test set\n",
    "4. visulization"
   ]
  },
  {
   "cell_type": "markdown",
   "metadata": {},
   "source": [
    "## [第三天：简单多元线性回归](https://github.com/Avik-Jain/100-Days-Of-ML-Code/blob/master/Code/Day3_Multiple_Linear_Regression.md)\n",
    "1. data proprecessing\n",
    "2. fitting simple multiply to the trainset\n",
    "3. predicting the test set"
   ]
  },
  {
   "cell_type": "markdown",
   "metadata": {
    "collapsed": true
   },
   "source": [
    "## [第四天-第六天：逻辑回归](https://github.com/Avik-Jain/100-Days-Of-ML-Code/blob/master/Code/Day%206%20Logistic%20Regression.md)"
   ]
  },
  {
   "cell_type": "code",
   "execution_count": null,
   "metadata": {
    "collapsed": true
   },
   "outputs": [],
   "source": []
  }
 ],
 "metadata": {
  "anaconda-cloud": {},
  "kernelspec": {
   "display_name": "Python [default]",
   "language": "python",
   "name": "python3"
  },
  "language_info": {
   "codemirror_mode": {
    "name": "ipython",
    "version": 3
   },
   "file_extension": ".py",
   "mimetype": "text/x-python",
   "name": "python",
   "nbconvert_exporter": "python",
   "pygments_lexer": "ipython3",
   "version": "3.5.2"
  }
 },
 "nbformat": 4,
 "nbformat_minor": 1
}
