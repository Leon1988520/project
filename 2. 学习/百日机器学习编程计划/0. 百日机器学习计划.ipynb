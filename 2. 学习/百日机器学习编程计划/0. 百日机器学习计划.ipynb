{
 "cells": [
  {
   "cell_type": "markdown",
   "metadata": {},
   "source": [
    "# 百日机器学习编程计划\n",
    "\n",
    "[github地址](https://github.com/Avik-Jain/100-Days-Of-ML-Code)\n",
    "\n",
    "\n",
    "## 有监督\n",
    "1. 第2天：简单线性回归\n",
    "2. 第3天：简单多元线性回归\n",
    "3. 第4天：Logisitc\n",
    "4. 第7天：KNN\n",
    "\n",
    "## 无监督\n",
    "## 半监督\n",
    "## 其他\n",
    "### 数据清理\n",
    "1. 第1天：数据预处理"
   ]
  },
  {
   "cell_type": "markdown",
   "metadata": {},
   "source": [
    "# <a id=\"day1\">第一天：数据预处理</a>\n",
    "\n",
    "> data preprocessing:getting started with machine learning\n",
    "\n",
    "1. import the required librares\n",
    "2. import data set\n",
    "3. handle missing data\n",
    "4. encoding categorical data\n",
    "5. split data into train and test data set\n",
    "6. feature scale"
   ]
  },
  {
   "cell_type": "markdown",
   "metadata": {
    "collapsed": true
   },
   "source": [
    "## [第二天：简单线性回归](https://github.com/Avik-Jain/100-Days-Of-ML-Code/blob/master/Code/Day2_Simple_Linear_Regression.md)"
   ]
  },
  {
   "cell_type": "markdown",
   "metadata": {},
   "source": [
    "1. data proprecessing\n",
    "2. fitting simple linear regression to the train set\n",
    "3. predicting the test set\n",
    "4. visulization"
   ]
  },
  {
   "cell_type": "markdown",
   "metadata": {},
   "source": [
    "## [第三天：简单多元线性回归](https://github.com/Avik-Jain/100-Days-Of-ML-Code/blob/master/Code/Day3_Multiple_Linear_Regression.md)\n",
    "1. data proprecessing\n",
    "2. fitting simple multiply to the trainset\n",
    "3. predicting the test set"
   ]
  },
  {
   "cell_type": "markdown",
   "metadata": {
    "collapsed": true
   },
   "source": [
    "## [第四天-第六天：逻辑回归](https://github.com/Avik-Jain/100-Days-Of-ML-Code/blob/master/Code/Day%206%20Logistic%20Regression.md)\n",
    "\n",
    "1. [Math Behind Logistic Regression | Day 8](https://towardsdatascience.com/logistic-regression-detailed-overview-46c4da4303bc?gi=5e59b153c62)"
   ]
  },
  {
   "cell_type": "markdown",
   "metadata": {
    "collapsed": true
   },
   "source": [
    "## [第7天：KNN]()\n",
    "\n",
    "1. non parametric, means it does not make any assumptions on the underlying distribution\n",
    "2. instance-based\n",
    "3. supervised ml"
   ]
  },
  {
   "cell_type": "markdown",
   "metadata": {
    "collapsed": true
   },
   "source": [
    "## [第12天/第14天：SVM](https://github.com/Avik-Jain/100-Days-Of-ML-Code/blob/master/Code/Day%2013%20SVM.md)\n",
    "1. What is SVM\n",
    "  - SVM(Support Vector Machine) is a supervised ml algorithm which can be used for both classification or regression\n",
    "2. theory"
   ]
  },
  {
   "cell_type": "markdown",
   "metadata": {},
   "source": [
    "## 第13天：Naive Bayes Classifier "
   ]
  },
  {
   "cell_type": "markdown",
   "metadata": {},
   "source": [
    "## 第14天：SVM"
   ]
  }
 ],
 "metadata": {
  "anaconda-cloud": {},
  "kernelspec": {
   "display_name": "Python [default]",
   "language": "python",
   "name": "python3"
  },
  "language_info": {
   "codemirror_mode": {
    "name": "ipython",
    "version": 3
   },
   "file_extension": ".py",
   "mimetype": "text/x-python",
   "name": "python",
   "nbconvert_exporter": "python",
   "pygments_lexer": "ipython3",
   "version": "3.5.2"
  }
 },
 "nbformat": 4,
 "nbformat_minor": 1
}
