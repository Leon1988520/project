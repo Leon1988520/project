{
 "cells": [
  {
   "cell_type": "markdown",
   "metadata": {},
   "source": [
    "# SNA\n",
    "> 社交网络分析（SNA）是 Modeler 15 增加的一个新功能。目前有两种算法支持这个功能，分别称作 GA 和 DA\n",
    "\n",
    "- GA 全称 Group Analysis, 是一种基于群体的分析方法。\n",
    "- DA 全称 Diffusion Analysis，着眼于计算一些人的行为对网络中其他人的冲击强度。\n"
   ]
  },
  {
   "cell_type": "code",
   "execution_count": null,
   "metadata": {
    "collapsed": true
   },
   "outputs": [],
   "source": [
    "www.siam.org/proceedings/datamining/2010/dm10_064_richtery.pdf\n",
    "\n",
    "https://ebiquity.umbc.edu/_file_directory_/papers/406.pdf"
   ]
  }
 ],
 "metadata": {
  "anaconda-cloud": {},
  "kernelspec": {
   "display_name": "Python [default]",
   "language": "python",
   "name": "python3"
  },
  "language_info": {
   "codemirror_mode": {
    "name": "ipython",
    "version": 3
   },
   "file_extension": ".py",
   "mimetype": "text/x-python",
   "name": "python",
   "nbconvert_exporter": "python",
   "pygments_lexer": "ipython3",
   "version": "3.5.2"
  }
 },
 "nbformat": 4,
 "nbformat_minor": 1
}
