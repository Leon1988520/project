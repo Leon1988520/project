{
 "cells": [
  {
   "cell_type": "markdown",
   "metadata": {},
   "source": [
    "# 社交网络分析(SNA)综述\n",
    "\n",
    "## 应用场景\n",
    "1. 金融反欺诈\n",
    "2. 推荐系统、营销\n",
    "3. 疾病传播，社会学领域\n",
    "\n",
    "## 基本概念\n",
    "1. 度\n",
    "2. 最短路径\n",
    "3. 紧密中心性\n",
    "4. 介数中心性\n",
    "\n",
    "\n",
    "## 资源\n",
    "1. [数据-斯坦福大学实验数据集](http://snap.stanford.edu/data/)\n",
    "2. [数据-社交分析数据集](http://www-personal.umich.edu/~mejn/netdata/)\n",
    "3. [工具-igraph-python](http://igraph.org/python/)\n",
    "\n",
    "## 参考资料\n",
    "### 博文\n",
    "1. [社交网络分析算法](https://blog.csdn.net/qq_39422642/article/details/78398024)\n",
    "2. [知识图谱之社交网络分析-networkx](https://blog.csdn.net/HHTNAN/article/details/80902337)\n",
    "3. [十七.社交网络Networkx库分析人物关系（初识篇）](https://blog.csdn.net/Eastmount/article/details/78452581)\n",
    "\n",
    "### 书籍\n",
    "1. [社交网络分析及案例详解](https://download.csdn.net/download/baidu_20812773/9406267)\n",
    "2. [社交网络(SNS)技术基础与开发案例](https://download.csdn.net/download/baidu_20812773/9406263)\n",
    "3. [使用Python分析社交网络数据](https://download.csdn.net/download/hantaa/10389723)\n",
    "\n",
    "### 视频\n",
    "1. [社交网络好友推荐，图算法](https://pan.baidu.com/s/1c24qzQC)\n",
    "2. [Applied Social Network Analysis in Python（Python社交网络分析）](http://www.52nlp.cn/tag/python%E7%A4%BE%E4%BA%A4%E7%BD%91%E7%BB%9C%E5%88%86%E6%9E%90%E5%9F%BA%E7%A1%80)   [Applied Social Network Analysis in Python](https://www.coursera.org/learn/python-social-network-analysis?siteID=9IqCvd3EEQc-E4sY_.dk0wkGIW.MQ.SL0Q&utm_content=10&utm_medium=partners&utm_source=linkshare&utm_campaign=9IqCvd3EEQc)\n",
    "\n",
    "### 案例\n",
    "1. [使用IBM SPSS Modeler进行社交网络分析](https://www.ibm.com/developerworks/cn/data/library/techarticle/dm-1206zhangxy/index.html)"
   ]
  },
  {
   "cell_type": "markdown",
   "metadata": {
    "collapsed": true
   },
   "source": [
    "## 一. Networkx\n",
    "1. [python networkx 包绘制复杂网络关系图](https://www.jianshu.com/p/e543dc63454f)"
   ]
  },
  {
   "cell_type": "markdown",
   "metadata": {},
   "source": [
    "## 二. igraph\n",
    "\n",
    "1. [igraph基本使用方法](https://blog.csdn.net/nnnnnnnnnnnny/article/details/53701277)"
   ]
  },
  {
   "cell_type": "markdown",
   "metadata": {
    "collapsed": true
   },
   "source": [
    "## 三. Neo4j\n",
    "\n",
    "1. [基于社区发现算法和图分析Neo4j解读《权力的游戏》](https://bigdata-ny.github.io/2016/08/12/graph-of-thrones-neo4j-social-network-analysis/)"
   ]
  },
  {
   "cell_type": "code",
   "execution_count": null,
   "metadata": {},
   "outputs": [],
   "source": []
  }
 ],
 "metadata": {
  "anaconda-cloud": {},
  "kernelspec": {
   "display_name": "Python 3",
   "language": "python",
   "name": "python3"
  },
  "language_info": {
   "codemirror_mode": {
    "name": "ipython",
    "version": 3
   },
   "file_extension": ".py",
   "mimetype": "text/x-python",
   "name": "python",
   "nbconvert_exporter": "python",
   "pygments_lexer": "ipython3",
   "version": "3.6.5"
  }
 },
 "nbformat": 4,
 "nbformat_minor": 1
}
