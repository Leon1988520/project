{
 "cells": [
  {
   "cell_type": "markdown",
   "metadata": {},
   "source": [
    "# 社交网络分析(SNA)综述\n",
    "\n",
    "## 应用场景\n",
    "1. 金融反欺诈\n",
    "2. 推荐系统、营销\n",
    "3. 疾病传播，社会学领域\n",
    "\n",
    "## 基本概念\n",
    "1. 度\n",
    "2. 最短路径\n",
    "3. 紧密中心性\n",
    "4. 介数中心性\n",
    "\n",
    "\n",
    "## 资源\n",
    "1. [数据-斯坦福大学实验数据集](http://snap.stanford.edu/data/)\n",
    "2. [数据-社交分析数据集](http://www-personal.umich.edu/~mejn/netdata/)\n",
    "3. [工具-igraph-python](http://igraph.org/python/)\n",
    "\n",
    "## 参考资料\n",
    "### 博文\n",
    "1. [社交网络分析算法](https://blog.csdn.net/qq_39422642/article/details/78398024)\n",
    "\n",
    "### 书籍\n",
    "1. [社交网络分析及案例详解](https://download.csdn.net/download/baidu_20812773/9406267)\n",
    "2. [社交网络(SNS)技术基础与开发案例](https://download.csdn.net/download/baidu_20812773/9406263)\n",
    "3. [使用Python分析社交网络数据](https://download.csdn.net/download/hantaa/10389723)\n",
    "\n",
    "### 视频\n",
    "1. [社交网络好友推荐，图算法](https://pan.baidu.com/s/1c24qzQC)\n",
    "2. []()\n",
    "\n",
    "### 案例\n",
    "1. [使用IBM SPSS Modeler进行社交网络分析](https://www.ibm.com/developerworks/cn/data/library/techarticle/dm-1206zhangxy/index.html)"
   ]
  },
  {
   "cell_type": "markdown",
   "metadata": {},
   "source": [
    "## igraph demo"
   ]
  },
  {
   "cell_type": "code",
   "execution_count": null,
   "metadata": {
    "collapsed": true
   },
   "outputs": [],
   "source": []
  }
 ],
 "metadata": {
  "anaconda-cloud": {},
  "kernelspec": {
   "display_name": "Python [default]",
   "language": "python",
   "name": "python3"
  },
  "language_info": {
   "codemirror_mode": {
    "name": "ipython",
    "version": 3
   },
   "file_extension": ".py",
   "mimetype": "text/x-python",
   "name": "python",
   "nbconvert_exporter": "python",
   "pygments_lexer": "ipython3",
   "version": "3.5.2"
  }
 },
 "nbformat": 4,
 "nbformat_minor": 1
}
