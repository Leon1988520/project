{
 "cells": [
  {
   "cell_type": "markdown",
   "metadata": {},
   "source": [
    "# 社交网络分析(SNA)综述\n",
    "\n",
    "\n",
    "## 参考资料\n",
    "### 书籍\n",
    "1. [社交网络分析及案例详解](https://download.csdn.net/download/baidu_20812773/9406267)\n",
    "2. [社交网络(SNS)技术基础与开发案例](https://download.csdn.net/download/baidu_20812773/9406263)\n",
    "3. [使用Python分析社交网络数据](https://download.csdn.net/download/hantaa/10389723)\n",
    "\n",
    "### 案例\n",
    "1. [使用IBM SPSS Modeler进行社交网络分析](https://www.ibm.com/developerworks/cn/data/library/techarticle/dm-1206zhangxy/index.html)"
   ]
  },
  {
   "cell_type": "code",
   "execution_count": null,
   "metadata": {
    "collapsed": true
   },
   "outputs": [],
   "source": []
  }
 ],
 "metadata": {
  "anaconda-cloud": {},
  "kernelspec": {
   "display_name": "Python [default]",
   "language": "python",
   "name": "python3"
  },
  "language_info": {
   "codemirror_mode": {
    "name": "ipython",
    "version": 3
   },
   "file_extension": ".py",
   "mimetype": "text/x-python",
   "name": "python",
   "nbconvert_exporter": "python",
   "pygments_lexer": "ipython3",
   "version": "3.5.2"
  }
 },
 "nbformat": 4,
 "nbformat_minor": 1
}
