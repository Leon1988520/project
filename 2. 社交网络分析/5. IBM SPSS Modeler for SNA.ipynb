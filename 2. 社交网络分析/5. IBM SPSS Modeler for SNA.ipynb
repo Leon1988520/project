{
 "cells": [
  {
   "cell_type": "markdown",
   "metadata": {},
   "source": [
    "# IBM SPSS Modeler SNA包\n",
    "\n",
    "> 社交网络分析（SNA）是 Modeler 15 增加的一个新功能。目前有两种算法支持这个功能，分别称作 GA 和 DA。\n",
    "\n",
    "- GA 全称 Group Analysis, 是一种基于群体的分析方法。\n",
    "- DA 全称 Diffusion Analysis，着眼于计算一些人的行为对网络中其他人的冲击强度。\n",
    "\n",
    "\n",
    "1. GA 收到这些数据后，会进行如下的分析：\n",
    "\n",
    "  - 根据共有邻接节点的数量，量化各个节点（也就是张三、李四、王五。。。）之间联系的强度；\n",
    "  - 保留高强度的联系，去除低强度的联系。进行此步骤后，社交网络会退化成几个内部联系多、外部联系少的次网络，以及很多孤立的节点。每个次网络对应一个群体（group），称为这个群体的核 (kernel)；\n",
    "  - 把那些孤立的节点连到距离他们最近的群体去。上一步里暂时去除的低强度的联系，在这一步发挥了主要作用；\n",
    "  - 对各个群体以及群体里的个体进行分析画像，例如评估群体内每个个体的地位，找出“领袖”，计算群体密度，等等。\n",
    "\n",
    "2. DA 的算法原理要更简单一些。DA 不会将网络分成群体，而是在原网络上进行计算。DA 着眼于计算一些人的行为对网络中其他人的冲击强度。\n",
    "\n",
    "  - DA会构筑一个有向加权网络，如下图所示。网络中的节点代表人、组织、计算机或者其他信息或知识处理实体；连线表示节点之间的关系或信息流动；连线的方向表示了关系的主动被动方，或者信息流动的方向（通常为双向，图 7 省略了此内容）。\n",
    "  - DA 还需要有行为发生的人的名单。这里的行为可以是从公司辞职，更换手机服务商，试用了某种产品，等等。这些人被称作“初始扩散点”(Initial diffusing seeds)，由图 7 中的红色节点表示。接下来，设定初始扩散点的冲击强度，然后采用衰败扩散过程就可以估计出其他节点所受到的冲击大小。\n",
    "![img](https://www.ibm.com/developerworks/cn/data/library/techarticle/dm-1206zhangxy/Figure7.JPG)\n",
    "\n",
    "## 参考\n",
    "1. [实验数据集-邮件](http://snap.stanford.edu/data/email-EuAll.html)\n",
    "2. [使用IBM SPSS Modeler进行社交网络分析](https://www.ibm.com/developerworks/cn/data/library/techarticle/dm-1206zhangxy/index.html)\n",
    "3. [精品案例 | 某移动通讯公司客户流失预警分析](http://www.sohu.com/a/131761172_455817)\n",
    "4. [[机器学习实战]使用 scikit-learn 预测用户流失](https://blog.csdn.net/BaiHuaXiu123/article/details/62063415)"
   ]
  },
  {
   "cell_type": "code",
   "execution_count": 17,
   "metadata": {},
   "outputs": [],
   "source": [
    "import gzip\n",
    "import pandas as pd\n",
    "import re\n",
    "\n",
    "df = pd.DataFrame(columns = [\"from\", \"to\"]) "
   ]
  },
  {
   "cell_type": "markdown",
   "metadata": {},
   "source": [
    "## 1. 源数据处理与整理\n",
    "\n",
    "数据格式\n",
    "\n",
    "发件人编号 收件人编号"
   ]
  },
  {
   "cell_type": "code",
   "execution_count": null,
   "metadata": {},
   "outputs": [],
   "source": [
    "%%time\n",
    "idx = 0\n",
    "with gzip.open(r\"data\\email-EuAll.txt.gz\", \"r\") as pf:\n",
    "    for line in pf:\n",
    "        if not str(line).startswith(\"b'#\"):\n",
    "            ft = re.findall(r\"\\d+\", str(line))\n",
    "            df.loc[idx, \"from\"] = ft[0]\n",
    "            df.loc[idx, \"to\"] = ft[1]\n",
    "            idx += 1\n",
    "            \n",
    "df.to_pickle(r\"data\\email-EuAll.pkl\")"
   ]
  },
  {
   "cell_type": "code",
   "execution_count": 10,
   "metadata": {},
   "outputs": [
    {
     "data": {
      "text/plain": [
       "False"
      ]
     },
     "execution_count": 10,
     "metadata": {},
     "output_type": "execute_result"
    }
   ],
   "source": [
    "df = pd.read_pickle(r\"data\\email-EuAll.pkl\")"
   ]
  },
  {
   "cell_type": "markdown",
   "metadata": {},
   "source": [
    "## 2. 案例一：客户流失预警\n",
    "\n",
    "> 需要数据\n",
    "1. Demo_GA_KPI， 关系对 \n",
    "2. Demo_GA_churner， 已流失客户名单， 随机生成"
   ]
  }
 ],
 "metadata": {
  "kernelspec": {
   "display_name": "Python 3",
   "language": "python",
   "name": "python3"
  },
  "language_info": {
   "codemirror_mode": {
    "name": "ipython",
    "version": 3
   },
   "file_extension": ".py",
   "mimetype": "text/x-python",
   "name": "python",
   "nbconvert_exporter": "python",
   "pygments_lexer": "ipython3",
   "version": "3.6.5"
  }
 },
 "nbformat": 4,
 "nbformat_minor": 2
}
