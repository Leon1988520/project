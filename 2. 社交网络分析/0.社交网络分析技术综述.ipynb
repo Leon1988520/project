{
 "cells": [
  {
   "cell_type": "markdown",
   "metadata": {},
   "source": [
    "# 社交网络分析(SNA)综述\n",
    "\n",
    "## 应用场景\n",
    "1. 金融反欺诈\n",
    "2. 推荐系统、营销\n",
    "3. 疾病传播，社会学领域\n",
    "\n",
    "## 基本概念\n",
    "\n",
    "指标名称 | 概念 | 比较 | 实际应用\n",
    "------|------|------|------\n",
    "点度中心度 | 在某个点上，有多少条线 | 强调某点单独的价值\t| ★作为基本点的描述\n",
    "紧密中心度 | 该点与网络中其他点距离之和的倒数，越大说明越在中心，越能够很快到达其他点 | 强调点在网络的价值，越大，越在中心 | ★★基本描述，用户价值\n",
    "介数中心度 | 代表最短距离是否都经过该点，如果都经过说明这个点很重要，其中包括线的中心度 | 强调点在其他点之间调节能力，控制能力指数，中介调节效应 | ★★推荐算法，用户的控制力\n",
    "特征向量中心度\t| 根据相邻点的重要性来衡量该点的价值。首先计算邻接矩阵，然后计算邻接矩阵的特征向量。 | 强调点在网络的价值，并且比接近中心度厉害的是，点价值是根据近邻点来决定的\t| ★★★推荐算法，用户潜在价值\n",
    "\n",
    "\n",
    "1. 度中心性（degree）\n",
    "\n",
    "  > 百度百科：度中心性（Degree Centrality）是在网络分析中刻画节点中心性（Centrality）的最直接度量指标。一个节点的节点度越大就意味着这个节点的度中心性越高，该节点在网络中就越重要。\n",
    "\n",
    "  设想一下，你在微信上有个账号，那么是不是意味着微信好友数量越多，那么你的社交圈子越广？（假设都是真实好友，不考虑微商神马的奇葩情况）比如我有20个好友，那么意味着20个结点与我相连。如果你有50个好友，那么意味着你的点度中心度比我高，社交圈子比我广。这个就是点度中心性的概念。\n",
    "\n",
    "  当然，刚才这个情况是无向图的情形，如果是有向图，需要考虑的出度和入度的问题。\n",
    "\n",
    "  在刚才的基础上拓展一下，假如我们要比较你在微博和微信上的点度中心度，刚才的方法是否适用？如果说使用微信与微博的人数差不多，那么的确可以。但是如果说用户数量不一样呢？那么我们需要考虑到去规模化的问题，这就是标准化的点度中心性的理念。\n",
    "\n",
    "2. 紧密(接近)中心性（closeness）\n",
    "\n",
    "  > 百度百科：反映在网络中某一节点与其他节点之间的接近程度。将一个节点到所有其他节点的最短路径距离的累加起来的倒数表示接近性中心性。即对于一个节点，它距离其他节点越近，那么它的接近性中心性越大。\n",
    "\n",
    "  对于了解图论的朋友而言，最短路这个概念一定不陌生。我们设想一个实际生活中的场景，比如你要建一个大型的娱乐商场，你可能会希望周围的顾客到达这个商场的距离都可以尽可能地短。这个就涉及到接近中心性的概念，接近中心性的值为路径长度的倒数。\n",
    "\n",
    "  接近中心性需要考量每个结点到其它结点的最短路的平均长度。也就是说，对于一个结点而言，它距离其它结点越近，那么它的中心度越高。一般来说，那种需要让尽可能多的人使用的设施，它的接近中心度一般是比较高的。\n",
    "\n",
    "3. 介数中心性（betweenness）\n",
    "\n",
    "  > 百度百科：以经过某个节点的最短路径数目来刻画节点重要性的指标\n",
    "\n",
    "  这个度量很有意思。这个有点像是我们身边那种社交达人，我们认识的不少朋友可能都是通过他/她认识的，这个人起到了中介的作用。\n",
    "\n",
    "  中介中心性指的是一个结点担任其它两个结点之间最短路的桥梁的次数。一个结点充当“中介”的次数越高，它的中介中心度就越大。如果要考虑标准化的问题，可以用一个结点承担最短路桥梁的次数除以所有的路径数量。\n",
    "\n",
    "\n",
    "## 资源\n",
    "1. [数据-斯坦福大学实验数据集](http://snap.stanford.edu/data/)\n",
    "2. [数据-社交分析数据集](http://www-personal.umich.edu/~mejn/netdata/)\n",
    "3. [工具-igraph-python](http://igraph.org/python/)\n",
    "\n",
    "## 参考资料\n",
    "### 博文\n",
    "1. [社交网络分析算法](https://blog.csdn.net/qq_39422642/article/details/78398024)\n",
    "2. [知识图谱之社交网络分析-networkx](https://blog.csdn.net/HHTNAN/article/details/80902337)\n",
    "3. [十七.社交网络Networkx库分析人物关系（初识篇）](https://blog.csdn.net/Eastmount/article/details/78452581)\n",
    "4. [SNA基本概念 - SNA-社会关系网络 R语言实现专题](https://blog.csdn.net/sinat_26917383/article/details/51443846)\n",
    "\n",
    "### 书籍\n",
    "1. [社交网络分析及案例详解](https://download.csdn.net/download/baidu_20812773/9406267)\n",
    "2. [社交网络(SNS)技术基础与开发案例](https://download.csdn.net/download/baidu_20812773/9406263)\n",
    "3. [使用Python分析社交网络数据](https://download.csdn.net/download/hantaa/10389723)\n",
    "\n",
    "### 视频\n",
    "1. [社交网络好友推荐，图算法](https://pan.baidu.com/s/1c24qzQC)\n",
    "2. [Applied Social Network Analysis in Python（Python社交网络分析）](http://www.52nlp.cn/tag/python%E7%A4%BE%E4%BA%A4%E7%BD%91%E7%BB%9C%E5%88%86%E6%9E%90%E5%9F%BA%E7%A1%80)   [Applied Social Network Analysis in Python](https://www.coursera.org/learn/python-social-network-analysis?siteID=9IqCvd3EEQc-E4sY_.dk0wkGIW.MQ.SL0Q&utm_content=10&utm_medium=partners&utm_source=linkshare&utm_campaign=9IqCvd3EEQc)\n",
    "\n",
    "### 案例\n",
    "1. [使用IBM SPSS Modeler进行社交网络分析](https://www.ibm.com/developerworks/cn/data/library/techarticle/dm-1206zhangxy/index.html)"
   ]
  },
  {
   "cell_type": "markdown",
   "metadata": {
    "collapsed": true
   },
   "source": [
    "## 一. Networkx\n",
    "1. [python networkx 包绘制复杂网络关系图](https://www.jianshu.com/p/e543dc63454f)"
   ]
  },
  {
   "cell_type": "markdown",
   "metadata": {},
   "source": [
    "## 二. igraph\n",
    "\n",
    "1. [igraph基本使用方法](https://blog.csdn.net/nnnnnnnnnnnny/article/details/53701277)\n",
    "2. [社交网络-igraph包](https://blog.csdn.net/sinat_26917383/article/details/51444536)"
   ]
  },
  {
   "cell_type": "markdown",
   "metadata": {
    "collapsed": true
   },
   "source": [
    "## 三. Neo4j\n",
    "\n",
    "1. [基于社区发现算法和图分析Neo4j解读《权力的游戏》](https://bigdata-ny.github.io/2016/08/12/graph-of-thrones-neo4j-social-network-analysis/)"
   ]
  },
  {
   "cell_type": "code",
   "execution_count": null,
   "metadata": {
    "collapsed": true
   },
   "outputs": [],
   "source": []
  }
 ],
 "metadata": {
  "anaconda-cloud": {},
  "kernelspec": {
   "display_name": "Python [default]",
   "language": "python",
   "name": "python3"
  },
  "language_info": {
   "codemirror_mode": {
    "name": "ipython",
    "version": 3
   },
   "file_extension": ".py",
   "mimetype": "text/x-python",
   "name": "python",
   "nbconvert_exporter": "python",
   "pygments_lexer": "ipython3",
   "version": "3.5.2"
  }
 },
 "nbformat": 4,
 "nbformat_minor": 1
}
