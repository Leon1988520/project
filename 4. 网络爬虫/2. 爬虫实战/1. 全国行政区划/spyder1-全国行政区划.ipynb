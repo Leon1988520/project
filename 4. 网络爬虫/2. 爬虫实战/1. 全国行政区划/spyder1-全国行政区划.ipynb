{
 "cells": [
  {
   "cell_type": "markdown",
   "metadata": {},
   "source": [
    "# 爬取全国行政区划\n",
    "\n",
    "\n",
    "1. 网站地址[http://www.stats.gov.cn/tjsj/tjbz/tjyqhdmhcxhfdm/2017/index.html](http://www.stats.gov.cn/tjsj/tjbz/tjyqhdmhcxhfdm/2017/index.html)\n",
    "\n",
    "\n",
    "## 爬取策略\n",
    "1. 爬取主页数据，将链接数据入队\n",
    "2. 在队列中，依次拿出各网址，爬取该网址的数据，入队\n",
    "3. 每一页中，逐行将链接的文字，放入数据库中\n",
    "\n",
    "\n",
    "## 知识点\n",
    "1. requests\n",
    "2. beautifulsoup\n",
    "    - soup.select('tr[class=\"villagetr\"]')\n",
    "    - soup.find_all(\"a\")\n",
    "\n",
    "3. 爬虫攻防：构建头\n",
    "\n",
    "\n",
    "## 参考\n",
    "1. [python简单爬虫](http://cache.baiducontent.com/c?m=9d78d513d9810ae902b0c8690d67c0171e43f1612ba7d10208d08448e2320c1e1a72a4fb792d4a4295873d7000dc5441afb57365377471ebcb96d51f9cac925f7ed57829234cd11f539404edd64126c327975ce9b81990e0b66dcd&p=b4769a4786cc4ae000a48e2c4f&newp=82769a47928911a053a4d6275953d8224216ed623fd4c44324b9d71fd325001c1b69e7bc2d261702d4c4796d0bad4d5aeef63078341766dada9fca458ae7c46c65&user=baidu&fm=sc&query=python+%C5%C0%B3%E6+demo&qid=bd8c9e6500034ce3&p1=2)\n",
    "2. [1个小白五小时的爬虫经历](https://www.cnblogs.com/panzi/p/6421826.html)\n",
    "3. [32个爬虫项目-让你一次吃到饱](https://blog.csdn.net/qq_41396296/article/details/79428834)"
   ]
  },
  {
   "cell_type": "code",
   "execution_count": 1,
   "metadata": {
    "collapsed": true
   },
   "outputs": [],
   "source": [
    "# 引入库\n",
    "import requests\n",
    "import re\n",
    "import pandas as pd\n",
    "import time\n",
    "import random\n",
    "from bs4 import BeautifulSoup\n",
    "\n",
    "\n",
    "dir_base = \"http://www.stats.gov.cn/tjsj/tjbz/tjyqhdmhcxhfdm/2017\""
   ]
  },
  {
   "cell_type": "code",
   "execution_count": 2,
   "metadata": {
    "collapsed": false,
    "scrolled": true
   },
   "outputs": [
    {
     "name": "stderr",
     "output_type": "stream",
     "text": [
      "D:\\Anaconda3\\lib\\site-packages\\bs4\\__init__.py:181: UserWarning: No parser was explicitly specified, so I'm using the best available HTML parser for this system (\"lxml\"). This usually isn't a problem, but if you run this code on another system, or in a different virtual environment, it may use a different parser and behave differently.\n",
      "\n",
      "The code that caused this warning is on line 184 of the file D:\\Anaconda3\\lib\\runpy.py. To get rid of this warning, change code that looks like this:\n",
      "\n",
      " BeautifulSoup([your markup])\n",
      "\n",
      "to this:\n",
      "\n",
      " BeautifulSoup([your markup], \"lxml\")\n",
      "\n",
      "  markup_type=markup_type))\n"
     ]
    },
    {
     "data": {
      "text/plain": [
       "[<a class=\"STYLE3\" href=\"http://www.miibeian.gov.cn/\" target=\"_blank\">京ICP备05034670号</a>]"
      ]
     },
     "execution_count": 2,
     "metadata": {},
     "output_type": "execute_result"
    }
   ],
   "source": [
    "# 获得html文档\n",
    "def get_html(url):\n",
    "    \"\"\"get the content of the url\"\"\"\n",
    "    session = requests.Session()\n",
    "    \n",
    "    header = {\n",
    "#         \"User-Agent\":\"Mozilla/5.0 (Windows NT 6.3; WOW64) AppleWebKit/537.36 (KHTML, like Gecko) Chrome/52.0.2743.82 Safari/537.36\"\n",
    "        'User-Agent': 'Mozilla/5.0 (Windows NT 10.0; Win64; x64) AppleWebKit/537.36 (KHTML, like Gecko) Chrome/44.0.2403.157 Safari/537.36'\n",
    "        ,'Referer':'http://www.stats.gov.cn/'\n",
    "    }\n",
    "    res = session.get(url, headers=header, timeout = 50000)\n",
    "    res.encoding = \"gb2312\"\n",
    "    return BeautifulSoup(res.text)\n",
    "\n",
    "soup = get_html(\"%s/%s\" %(dir_base, \"62/09/22/620922215.html\"))\n",
    "soup.select(\"a\")"
   ]
  },
  {
   "cell_type": "code",
   "execution_count": 3,
   "metadata": {
    "collapsed": false,
    "scrolled": true
   },
   "outputs": [
    {
     "data": {
      "text/plain": [
       "1"
      ]
     },
     "execution_count": 3,
     "metadata": {},
     "output_type": "execute_result"
    }
   ],
   "source": [
    "len(soup.find_all(\"a\"))"
   ]
  },
  {
   "cell_type": "code",
   "execution_count": 4,
   "metadata": {
    "collapsed": false
   },
   "outputs": [
    {
     "name": "stdout",
     "output_type": "stream",
     "text": [
      "常顺村委会\n",
      "沙河村委会\n",
      "临河村委会\n",
      "民和村委会\n",
      "河洲村委会\n"
     ]
    }
   ],
   "source": [
    "for link in soup.select('tr[class=\"villagetr\"]'):\n",
    "    print(link.find_all(\"td\")[2].get_text())"
   ]
  },
  {
   "cell_type": "code",
   "execution_count": 8,
   "metadata": {
    "collapsed": false,
    "scrolled": true
   },
   "outputs": [
    {
     "name": "stderr",
     "output_type": "stream",
     "text": [
      "D:\\Anaconda3\\lib\\site-packages\\bs4\\__init__.py:181: UserWarning: No parser was explicitly specified, so I'm using the best available HTML parser for this system (\"lxml\"). This usually isn't a problem, but if you run this code on another system, or in a different virtual environment, it may use a different parser and behave differently.\n",
      "\n",
      "The code that caused this warning is on line 184 of the file D:\\Anaconda3\\lib\\runpy.py. To get rid of this warning, change code that looks like this:\n",
      "\n",
      " BeautifulSoup([your markup])\n",
      "\n",
      "to this:\n",
      "\n",
      " BeautifulSoup([your markup], \"lxml\")\n",
      "\n",
      "  markup_type=markup_type))\n"
     ]
    },
    {
     "ename": "ConnectionError",
     "evalue": "HTTPConnectionPool(host='www.stats.gov.cn', port=80): Max retries exceeded with url: /tjsj/tjbz/tjyqhdmhcxhfdm/2017/65/90/03/659003504.html (Caused by NewConnectionError('<requests.packages.urllib3.connection.HTTPConnection object at 0x0000026E32100A90>: Failed to establish a new connection: [WinError 10060] 由于连接方在一段时间后没有正确答复或连接的主机没有反应，连接尝试失败。',))",
     "output_type": "error",
     "traceback": [
      "\u001b[0;31m---------------------------------------------------------------------------\u001b[0m",
      "\u001b[0;31mTimeoutError\u001b[0m                              Traceback (most recent call last)",
      "\u001b[0;32mD:\\Anaconda3\\lib\\site-packages\\requests\\packages\\urllib3\\connection.py\u001b[0m in \u001b[0;36m_new_conn\u001b[0;34m(self)\u001b[0m\n\u001b[1;32m    141\u001b[0m             conn = connection.create_connection(\n\u001b[0;32m--> 142\u001b[0;31m                 (self.host, self.port), self.timeout, **extra_kw)\n\u001b[0m\u001b[1;32m    143\u001b[0m \u001b[1;33m\u001b[0m\u001b[0m\n",
      "\u001b[0;32mD:\\Anaconda3\\lib\\site-packages\\requests\\packages\\urllib3\\util\\connection.py\u001b[0m in \u001b[0;36mcreate_connection\u001b[0;34m(address, timeout, source_address, socket_options)\u001b[0m\n\u001b[1;32m     97\u001b[0m     \u001b[1;32mif\u001b[0m \u001b[0merr\u001b[0m \u001b[1;32mis\u001b[0m \u001b[1;32mnot\u001b[0m \u001b[1;32mNone\u001b[0m\u001b[1;33m:\u001b[0m\u001b[1;33m\u001b[0m\u001b[0m\n\u001b[0;32m---> 98\u001b[0;31m         \u001b[1;32mraise\u001b[0m \u001b[0merr\u001b[0m\u001b[1;33m\u001b[0m\u001b[0m\n\u001b[0m\u001b[1;32m     99\u001b[0m \u001b[1;33m\u001b[0m\u001b[0m\n",
      "\u001b[0;32mD:\\Anaconda3\\lib\\site-packages\\requests\\packages\\urllib3\\util\\connection.py\u001b[0m in \u001b[0;36mcreate_connection\u001b[0;34m(address, timeout, source_address, socket_options)\u001b[0m\n\u001b[1;32m     87\u001b[0m                 \u001b[0msock\u001b[0m\u001b[1;33m.\u001b[0m\u001b[0mbind\u001b[0m\u001b[1;33m(\u001b[0m\u001b[0msource_address\u001b[0m\u001b[1;33m)\u001b[0m\u001b[1;33m\u001b[0m\u001b[0m\n\u001b[0;32m---> 88\u001b[0;31m             \u001b[0msock\u001b[0m\u001b[1;33m.\u001b[0m\u001b[0mconnect\u001b[0m\u001b[1;33m(\u001b[0m\u001b[0msa\u001b[0m\u001b[1;33m)\u001b[0m\u001b[1;33m\u001b[0m\u001b[0m\n\u001b[0m\u001b[1;32m     89\u001b[0m             \u001b[1;32mreturn\u001b[0m \u001b[0msock\u001b[0m\u001b[1;33m\u001b[0m\u001b[0m\n",
      "\u001b[0;31mTimeoutError\u001b[0m: [WinError 10060] 由于连接方在一段时间后没有正确答复或连接的主机没有反应，连接尝试失败。",
      "\nDuring handling of the above exception, another exception occurred:\n",
      "\u001b[0;31mNewConnectionError\u001b[0m                        Traceback (most recent call last)",
      "\u001b[0;32mD:\\Anaconda3\\lib\\site-packages\\requests\\packages\\urllib3\\connectionpool.py\u001b[0m in \u001b[0;36murlopen\u001b[0;34m(self, method, url, body, headers, retries, redirect, assert_same_host, timeout, pool_timeout, release_conn, chunked, **response_kw)\u001b[0m\n\u001b[1;32m    594\u001b[0m                                                   \u001b[0mbody\u001b[0m\u001b[1;33m=\u001b[0m\u001b[0mbody\u001b[0m\u001b[1;33m,\u001b[0m \u001b[0mheaders\u001b[0m\u001b[1;33m=\u001b[0m\u001b[0mheaders\u001b[0m\u001b[1;33m,\u001b[0m\u001b[1;33m\u001b[0m\u001b[0m\n\u001b[0;32m--> 595\u001b[0;31m                                                   chunked=chunked)\n\u001b[0m\u001b[1;32m    596\u001b[0m \u001b[1;33m\u001b[0m\u001b[0m\n",
      "\u001b[0;32mD:\\Anaconda3\\lib\\site-packages\\requests\\packages\\urllib3\\connectionpool.py\u001b[0m in \u001b[0;36m_make_request\u001b[0;34m(self, conn, method, url, timeout, chunked, **httplib_request_kw)\u001b[0m\n\u001b[1;32m    362\u001b[0m         \u001b[1;32melse\u001b[0m\u001b[1;33m:\u001b[0m\u001b[1;33m\u001b[0m\u001b[0m\n\u001b[0;32m--> 363\u001b[0;31m             \u001b[0mconn\u001b[0m\u001b[1;33m.\u001b[0m\u001b[0mrequest\u001b[0m\u001b[1;33m(\u001b[0m\u001b[0mmethod\u001b[0m\u001b[1;33m,\u001b[0m \u001b[0murl\u001b[0m\u001b[1;33m,\u001b[0m \u001b[1;33m**\u001b[0m\u001b[0mhttplib_request_kw\u001b[0m\u001b[1;33m)\u001b[0m\u001b[1;33m\u001b[0m\u001b[0m\n\u001b[0m\u001b[1;32m    364\u001b[0m \u001b[1;33m\u001b[0m\u001b[0m\n",
      "\u001b[0;32mD:\\Anaconda3\\lib\\http\\client.py\u001b[0m in \u001b[0;36mrequest\u001b[0;34m(self, method, url, body, headers)\u001b[0m\n\u001b[1;32m   1105\u001b[0m         \u001b[1;34m\"\"\"Send a complete request to the server.\"\"\"\u001b[0m\u001b[1;33m\u001b[0m\u001b[0m\n\u001b[0;32m-> 1106\u001b[0;31m         \u001b[0mself\u001b[0m\u001b[1;33m.\u001b[0m\u001b[0m_send_request\u001b[0m\u001b[1;33m(\u001b[0m\u001b[0mmethod\u001b[0m\u001b[1;33m,\u001b[0m \u001b[0murl\u001b[0m\u001b[1;33m,\u001b[0m \u001b[0mbody\u001b[0m\u001b[1;33m,\u001b[0m \u001b[0mheaders\u001b[0m\u001b[1;33m)\u001b[0m\u001b[1;33m\u001b[0m\u001b[0m\n\u001b[0m\u001b[1;32m   1107\u001b[0m \u001b[1;33m\u001b[0m\u001b[0m\n",
      "\u001b[0;32mD:\\Anaconda3\\lib\\http\\client.py\u001b[0m in \u001b[0;36m_send_request\u001b[0;34m(self, method, url, body, headers)\u001b[0m\n\u001b[1;32m   1150\u001b[0m             \u001b[0mbody\u001b[0m \u001b[1;33m=\u001b[0m \u001b[0m_encode\u001b[0m\u001b[1;33m(\u001b[0m\u001b[0mbody\u001b[0m\u001b[1;33m,\u001b[0m \u001b[1;34m'body'\u001b[0m\u001b[1;33m)\u001b[0m\u001b[1;33m\u001b[0m\u001b[0m\n\u001b[0;32m-> 1151\u001b[0;31m         \u001b[0mself\u001b[0m\u001b[1;33m.\u001b[0m\u001b[0mendheaders\u001b[0m\u001b[1;33m(\u001b[0m\u001b[0mbody\u001b[0m\u001b[1;33m)\u001b[0m\u001b[1;33m\u001b[0m\u001b[0m\n\u001b[0m\u001b[1;32m   1152\u001b[0m \u001b[1;33m\u001b[0m\u001b[0m\n",
      "\u001b[0;32mD:\\Anaconda3\\lib\\http\\client.py\u001b[0m in \u001b[0;36mendheaders\u001b[0;34m(self, message_body)\u001b[0m\n\u001b[1;32m   1101\u001b[0m             \u001b[1;32mraise\u001b[0m \u001b[0mCannotSendHeader\u001b[0m\u001b[1;33m(\u001b[0m\u001b[1;33m)\u001b[0m\u001b[1;33m\u001b[0m\u001b[0m\n\u001b[0;32m-> 1102\u001b[0;31m         \u001b[0mself\u001b[0m\u001b[1;33m.\u001b[0m\u001b[0m_send_output\u001b[0m\u001b[1;33m(\u001b[0m\u001b[0mmessage_body\u001b[0m\u001b[1;33m)\u001b[0m\u001b[1;33m\u001b[0m\u001b[0m\n\u001b[0m\u001b[1;32m   1103\u001b[0m \u001b[1;33m\u001b[0m\u001b[0m\n",
      "\u001b[0;32mD:\\Anaconda3\\lib\\http\\client.py\u001b[0m in \u001b[0;36m_send_output\u001b[0;34m(self, message_body)\u001b[0m\n\u001b[1;32m    933\u001b[0m \u001b[1;33m\u001b[0m\u001b[0m\n\u001b[0;32m--> 934\u001b[0;31m         \u001b[0mself\u001b[0m\u001b[1;33m.\u001b[0m\u001b[0msend\u001b[0m\u001b[1;33m(\u001b[0m\u001b[0mmsg\u001b[0m\u001b[1;33m)\u001b[0m\u001b[1;33m\u001b[0m\u001b[0m\n\u001b[0m\u001b[1;32m    935\u001b[0m         \u001b[1;32mif\u001b[0m \u001b[0mmessage_body\u001b[0m \u001b[1;32mis\u001b[0m \u001b[1;32mnot\u001b[0m \u001b[1;32mNone\u001b[0m\u001b[1;33m:\u001b[0m\u001b[1;33m\u001b[0m\u001b[0m\n",
      "\u001b[0;32mD:\\Anaconda3\\lib\\http\\client.py\u001b[0m in \u001b[0;36msend\u001b[0;34m(self, data)\u001b[0m\n\u001b[1;32m    876\u001b[0m             \u001b[1;32mif\u001b[0m \u001b[0mself\u001b[0m\u001b[1;33m.\u001b[0m\u001b[0mauto_open\u001b[0m\u001b[1;33m:\u001b[0m\u001b[1;33m\u001b[0m\u001b[0m\n\u001b[0;32m--> 877\u001b[0;31m                 \u001b[0mself\u001b[0m\u001b[1;33m.\u001b[0m\u001b[0mconnect\u001b[0m\u001b[1;33m(\u001b[0m\u001b[1;33m)\u001b[0m\u001b[1;33m\u001b[0m\u001b[0m\n\u001b[0m\u001b[1;32m    878\u001b[0m             \u001b[1;32melse\u001b[0m\u001b[1;33m:\u001b[0m\u001b[1;33m\u001b[0m\u001b[0m\n",
      "\u001b[0;32mD:\\Anaconda3\\lib\\site-packages\\requests\\packages\\urllib3\\connection.py\u001b[0m in \u001b[0;36mconnect\u001b[0;34m(self)\u001b[0m\n\u001b[1;32m    166\u001b[0m     \u001b[1;32mdef\u001b[0m \u001b[0mconnect\u001b[0m\u001b[1;33m(\u001b[0m\u001b[0mself\u001b[0m\u001b[1;33m)\u001b[0m\u001b[1;33m:\u001b[0m\u001b[1;33m\u001b[0m\u001b[0m\n\u001b[0;32m--> 167\u001b[0;31m         \u001b[0mconn\u001b[0m \u001b[1;33m=\u001b[0m \u001b[0mself\u001b[0m\u001b[1;33m.\u001b[0m\u001b[0m_new_conn\u001b[0m\u001b[1;33m(\u001b[0m\u001b[1;33m)\u001b[0m\u001b[1;33m\u001b[0m\u001b[0m\n\u001b[0m\u001b[1;32m    168\u001b[0m         \u001b[0mself\u001b[0m\u001b[1;33m.\u001b[0m\u001b[0m_prepare_conn\u001b[0m\u001b[1;33m(\u001b[0m\u001b[0mconn\u001b[0m\u001b[1;33m)\u001b[0m\u001b[1;33m\u001b[0m\u001b[0m\n",
      "\u001b[0;32mD:\\Anaconda3\\lib\\site-packages\\requests\\packages\\urllib3\\connection.py\u001b[0m in \u001b[0;36m_new_conn\u001b[0;34m(self)\u001b[0m\n\u001b[1;32m    150\u001b[0m             raise NewConnectionError(\n\u001b[0;32m--> 151\u001b[0;31m                 self, \"Failed to establish a new connection: %s\" % e)\n\u001b[0m\u001b[1;32m    152\u001b[0m \u001b[1;33m\u001b[0m\u001b[0m\n",
      "\u001b[0;31mNewConnectionError\u001b[0m: <requests.packages.urllib3.connection.HTTPConnection object at 0x0000026E32100A90>: Failed to establish a new connection: [WinError 10060] 由于连接方在一段时间后没有正确答复或连接的主机没有反应，连接尝试失败。",
      "\nDuring handling of the above exception, another exception occurred:\n",
      "\u001b[0;31mMaxRetryError\u001b[0m                             Traceback (most recent call last)",
      "\u001b[0;32mD:\\Anaconda3\\lib\\site-packages\\requests\\adapters.py\u001b[0m in \u001b[0;36msend\u001b[0;34m(self, request, stream, timeout, verify, cert, proxies)\u001b[0m\n\u001b[1;32m    422\u001b[0m                     \u001b[0mretries\u001b[0m\u001b[1;33m=\u001b[0m\u001b[0mself\u001b[0m\u001b[1;33m.\u001b[0m\u001b[0mmax_retries\u001b[0m\u001b[1;33m,\u001b[0m\u001b[1;33m\u001b[0m\u001b[0m\n\u001b[0;32m--> 423\u001b[0;31m                     \u001b[0mtimeout\u001b[0m\u001b[1;33m=\u001b[0m\u001b[0mtimeout\u001b[0m\u001b[1;33m\u001b[0m\u001b[0m\n\u001b[0m\u001b[1;32m    424\u001b[0m                 )\n",
      "\u001b[0;32mD:\\Anaconda3\\lib\\site-packages\\requests\\packages\\urllib3\\connectionpool.py\u001b[0m in \u001b[0;36murlopen\u001b[0;34m(self, method, url, body, headers, retries, redirect, assert_same_host, timeout, pool_timeout, release_conn, chunked, **response_kw)\u001b[0m\n\u001b[1;32m    639\u001b[0m             retries = retries.increment(method, url, error=e, _pool=self,\n\u001b[0;32m--> 640\u001b[0;31m                                         _stacktrace=sys.exc_info()[2])\n\u001b[0m\u001b[1;32m    641\u001b[0m             \u001b[0mretries\u001b[0m\u001b[1;33m.\u001b[0m\u001b[0msleep\u001b[0m\u001b[1;33m(\u001b[0m\u001b[1;33m)\u001b[0m\u001b[1;33m\u001b[0m\u001b[0m\n",
      "\u001b[0;32mD:\\Anaconda3\\lib\\site-packages\\requests\\packages\\urllib3\\util\\retry.py\u001b[0m in \u001b[0;36mincrement\u001b[0;34m(self, method, url, response, error, _pool, _stacktrace)\u001b[0m\n\u001b[1;32m    286\u001b[0m         \u001b[1;32mif\u001b[0m \u001b[0mnew_retry\u001b[0m\u001b[1;33m.\u001b[0m\u001b[0mis_exhausted\u001b[0m\u001b[1;33m(\u001b[0m\u001b[1;33m)\u001b[0m\u001b[1;33m:\u001b[0m\u001b[1;33m\u001b[0m\u001b[0m\n\u001b[0;32m--> 287\u001b[0;31m             \u001b[1;32mraise\u001b[0m \u001b[0mMaxRetryError\u001b[0m\u001b[1;33m(\u001b[0m\u001b[0m_pool\u001b[0m\u001b[1;33m,\u001b[0m \u001b[0murl\u001b[0m\u001b[1;33m,\u001b[0m \u001b[0merror\u001b[0m \u001b[1;32mor\u001b[0m \u001b[0mResponseError\u001b[0m\u001b[1;33m(\u001b[0m\u001b[0mcause\u001b[0m\u001b[1;33m)\u001b[0m\u001b[1;33m)\u001b[0m\u001b[1;33m\u001b[0m\u001b[0m\n\u001b[0m\u001b[1;32m    288\u001b[0m \u001b[1;33m\u001b[0m\u001b[0m\n",
      "\u001b[0;31mMaxRetryError\u001b[0m: HTTPConnectionPool(host='www.stats.gov.cn', port=80): Max retries exceeded with url: /tjsj/tjbz/tjyqhdmhcxhfdm/2017/65/90/03/659003504.html (Caused by NewConnectionError('<requests.packages.urllib3.connection.HTTPConnection object at 0x0000026E32100A90>: Failed to establish a new connection: [WinError 10060] 由于连接方在一段时间后没有正确答复或连接的主机没有反应，连接尝试失败。',))",
      "\nDuring handling of the above exception, another exception occurred:\n",
      "\u001b[0;31mConnectionError\u001b[0m                           Traceback (most recent call last)",
      "\u001b[0;32m<ipython-input-8-f208799c08a9>\u001b[0m in \u001b[0;36m<module>\u001b[0;34m()\u001b[0m\n\u001b[0;32m----> 1\u001b[0;31m \u001b[0mget_ipython\u001b[0m\u001b[1;33m(\u001b[0m\u001b[1;33m)\u001b[0m\u001b[1;33m.\u001b[0m\u001b[0mrun_cell_magic\u001b[0m\u001b[1;33m(\u001b[0m\u001b[1;34m'time'\u001b[0m\u001b[1;33m,\u001b[0m \u001b[1;34m''\u001b[0m\u001b[1;33m,\u001b[0m \u001b[1;34m'# 地址格式(五级)\\n# 省 市 区/县 乡镇/街道 居委会\\n\"\"\"\\n算法：\\n    1. 创建一个行标，一个空数组，用于存放行政区划\\n    2. 从根路径index开始，采用深度优先搜索策略\\n        爬取当前页面，如果当前页面有链接，则压入栈内\\n                      如果当前页面没有链接(除了外链)，即已经爬到了末端，将该页面的内容写入行政区划表，row+1\\n        取栈中的下一个地址\\n            如果栈中记录的不是地址，那么row-1，并在对应列中写入栈中记入的数据，row+1\\n            取栈中的下一个地址\\n    3. 空值填充，后向填充\\n\"\"\"\\nrow = 0\\ndf_district = pd.DataFrame()\\n\\nhtml_list = [{\"url\":\"%s/%s\" %(dir_base, \"index.html\")}]\\n\\nf = open(r\"E:\\\\workspace\\\\0. git\\\\project\\\\4. 网络爬虫\\\\2. 爬虫实战\\\\1. 全国行政区划\\\\addr.txt\", \"w\")\\n\\nwhile len(html_list) > 0:\\n    time.sleep(random.random())   # 休眠随机秒(0-1秒)\\n    node = html_list.pop()\\n    if \"url\" in list(node.keys()):\\n        url = node[\"url\"]\\n    else:\\n        key_no = node[\"key_no\"]\\n        value_no = node[\"value_no\"]\\n        tag = node[\"tag\"]\\n        value_tag = node[\"value_tag\"]\\n        \\n        row -= 1\\n        df_district.loc[row, key_no] = value_no\\n        df_district.loc[row, tag] = value_tag\\n        row += 1\\n        continue\\n    \\n    soup = get_html(url)\\n    # 如果找到a\\n    if len(soup.find_all(\"a\")) == 1: # 如果找到的a标签只有1个，即[<a class=\"STYLE3\" href=\"http://www.miibeian.gov.cn/\" target=\"_blank\">京ICP备05034670号</a>]，表示爬到了末端\\n        for link in soup.select(\\'tr[class=\"villagetr\"]\\'):\\n            df_district.loc[row, \"v_no\"] = link.find_all(\"td\")[1].get_text()\\n            df_district.loc[row, \"village\"] = link.find_all(\"td\")[2].get_text()\\n            \\n#             df_district.loc[row, \"t_no\"] = link.find_all(\"td\")[1].get_text()\\n#             df_district.loc[row, \"town\"] = link.find_all(\"td\")[2].get_text()\\n            \\n            row += 1\\n        continue\\n        \\n    for link in soup.find_all(\"a\"):\\n        html = link.get(\"href\")\\n        tag = link.get_text()\\n        \\n        if html.startswith(\"http\") == False and re.match(r\"\\\\d+\", tag) is None:\\n            if len(html) == 7:\\n                html_list.append({\"tag\":\"province\", \"value_tag\":tag, \"key_no\":\"p_no\", \"value_no\":html[:2]})\\n                r = \"%s/%s\" %(dir_base, html)\\n            elif len(html) == 12:\\n                html_list.append({\"tag\":\"city\", \"value_tag\":tag, \"key_no\":\"c_no\", \"value_no\":html[3:7]})\\n                r = \"%s/%s\" %(dir_base, html)\\n            elif len(html) == 14:\\n                html_list.append({\"tag\":\"district\", \"value_tag\":tag, \"key_no\":\"d_no\", \"value_no\":html[3:9]})\\n                r = \"%s/%s/%s\" %(dir_base, html[3:5], html)\\n            elif len(html) == 17:\\n                html_list.append({\"tag\":\"town\", \"value_tag\":tag, \"key_no\":\"t_no\", \"value_no\":html[3:12]})\\n                r = \"%s/%s/%s/%s\" %(dir_base, html[3:5], html[5:7], html)\\n                \\n            html_list.append({\"url\":r})\\n            f.write(\"%s\\\\n\" %(r))\\nf.close()'\u001b[0m\u001b[1;33m)\u001b[0m\u001b[1;33m\u001b[0m\u001b[0m\n\u001b[0m",
      "\u001b[0;32mD:\\Anaconda3\\lib\\site-packages\\IPython\\core\\interactiveshell.py\u001b[0m in \u001b[0;36mrun_cell_magic\u001b[0;34m(self, magic_name, line, cell)\u001b[0m\n\u001b[1;32m   2113\u001b[0m             \u001b[0mmagic_arg_s\u001b[0m \u001b[1;33m=\u001b[0m \u001b[0mself\u001b[0m\u001b[1;33m.\u001b[0m\u001b[0mvar_expand\u001b[0m\u001b[1;33m(\u001b[0m\u001b[0mline\u001b[0m\u001b[1;33m,\u001b[0m \u001b[0mstack_depth\u001b[0m\u001b[1;33m)\u001b[0m\u001b[1;33m\u001b[0m\u001b[0m\n\u001b[1;32m   2114\u001b[0m             \u001b[1;32mwith\u001b[0m \u001b[0mself\u001b[0m\u001b[1;33m.\u001b[0m\u001b[0mbuiltin_trap\u001b[0m\u001b[1;33m:\u001b[0m\u001b[1;33m\u001b[0m\u001b[0m\n\u001b[0;32m-> 2115\u001b[0;31m                 \u001b[0mresult\u001b[0m \u001b[1;33m=\u001b[0m \u001b[0mfn\u001b[0m\u001b[1;33m(\u001b[0m\u001b[0mmagic_arg_s\u001b[0m\u001b[1;33m,\u001b[0m \u001b[0mcell\u001b[0m\u001b[1;33m)\u001b[0m\u001b[1;33m\u001b[0m\u001b[0m\n\u001b[0m\u001b[1;32m   2116\u001b[0m             \u001b[1;32mreturn\u001b[0m \u001b[0mresult\u001b[0m\u001b[1;33m\u001b[0m\u001b[0m\n\u001b[1;32m   2117\u001b[0m \u001b[1;33m\u001b[0m\u001b[0m\n",
      "\u001b[0;32m<decorator-gen-60>\u001b[0m in \u001b[0;36mtime\u001b[0;34m(self, line, cell, local_ns)\u001b[0m\n",
      "\u001b[0;32mD:\\Anaconda3\\lib\\site-packages\\IPython\\core\\magic.py\u001b[0m in \u001b[0;36m<lambda>\u001b[0;34m(f, *a, **k)\u001b[0m\n\u001b[1;32m    186\u001b[0m     \u001b[1;31m# but it's overkill for just that one bit of state.\u001b[0m\u001b[1;33m\u001b[0m\u001b[1;33m\u001b[0m\u001b[0m\n\u001b[1;32m    187\u001b[0m     \u001b[1;32mdef\u001b[0m \u001b[0mmagic_deco\u001b[0m\u001b[1;33m(\u001b[0m\u001b[0marg\u001b[0m\u001b[1;33m)\u001b[0m\u001b[1;33m:\u001b[0m\u001b[1;33m\u001b[0m\u001b[0m\n\u001b[0;32m--> 188\u001b[0;31m         \u001b[0mcall\u001b[0m \u001b[1;33m=\u001b[0m \u001b[1;32mlambda\u001b[0m \u001b[0mf\u001b[0m\u001b[1;33m,\u001b[0m \u001b[1;33m*\u001b[0m\u001b[0ma\u001b[0m\u001b[1;33m,\u001b[0m \u001b[1;33m**\u001b[0m\u001b[0mk\u001b[0m\u001b[1;33m:\u001b[0m \u001b[0mf\u001b[0m\u001b[1;33m(\u001b[0m\u001b[1;33m*\u001b[0m\u001b[0ma\u001b[0m\u001b[1;33m,\u001b[0m \u001b[1;33m**\u001b[0m\u001b[0mk\u001b[0m\u001b[1;33m)\u001b[0m\u001b[1;33m\u001b[0m\u001b[0m\n\u001b[0m\u001b[1;32m    189\u001b[0m \u001b[1;33m\u001b[0m\u001b[0m\n\u001b[1;32m    190\u001b[0m         \u001b[1;32mif\u001b[0m \u001b[0mcallable\u001b[0m\u001b[1;33m(\u001b[0m\u001b[0marg\u001b[0m\u001b[1;33m)\u001b[0m\u001b[1;33m:\u001b[0m\u001b[1;33m\u001b[0m\u001b[0m\n",
      "\u001b[0;32mD:\\Anaconda3\\lib\\site-packages\\IPython\\core\\magics\\execution.py\u001b[0m in \u001b[0;36mtime\u001b[0;34m(self, line, cell, local_ns)\u001b[0m\n\u001b[1;32m   1178\u001b[0m         \u001b[1;32melse\u001b[0m\u001b[1;33m:\u001b[0m\u001b[1;33m\u001b[0m\u001b[0m\n\u001b[1;32m   1179\u001b[0m             \u001b[0mst\u001b[0m \u001b[1;33m=\u001b[0m \u001b[0mclock2\u001b[0m\u001b[1;33m(\u001b[0m\u001b[1;33m)\u001b[0m\u001b[1;33m\u001b[0m\u001b[0m\n\u001b[0;32m-> 1180\u001b[0;31m             \u001b[0mexec\u001b[0m\u001b[1;33m(\u001b[0m\u001b[0mcode\u001b[0m\u001b[1;33m,\u001b[0m \u001b[0mglob\u001b[0m\u001b[1;33m,\u001b[0m \u001b[0mlocal_ns\u001b[0m\u001b[1;33m)\u001b[0m\u001b[1;33m\u001b[0m\u001b[0m\n\u001b[0m\u001b[1;32m   1181\u001b[0m             \u001b[0mend\u001b[0m \u001b[1;33m=\u001b[0m \u001b[0mclock2\u001b[0m\u001b[1;33m(\u001b[0m\u001b[1;33m)\u001b[0m\u001b[1;33m\u001b[0m\u001b[0m\n\u001b[1;32m   1182\u001b[0m             \u001b[0mout\u001b[0m \u001b[1;33m=\u001b[0m \u001b[1;32mNone\u001b[0m\u001b[1;33m\u001b[0m\u001b[0m\n",
      "\u001b[0;32m<timed exec>\u001b[0m in \u001b[0;36m<module>\u001b[0;34m()\u001b[0m\n",
      "\u001b[0;32m<ipython-input-2-163a32fa8ed4>\u001b[0m in \u001b[0;36mget_html\u001b[0;34m(url)\u001b[0m\n\u001b[1;32m      9\u001b[0m         \u001b[1;33m,\u001b[0m\u001b[1;34m'Referer'\u001b[0m\u001b[1;33m:\u001b[0m\u001b[1;34m'http://www.stats.gov.cn/'\u001b[0m\u001b[1;33m\u001b[0m\u001b[0m\n\u001b[1;32m     10\u001b[0m     }\n\u001b[0;32m---> 11\u001b[0;31m     \u001b[0mres\u001b[0m \u001b[1;33m=\u001b[0m \u001b[0msession\u001b[0m\u001b[1;33m.\u001b[0m\u001b[0mget\u001b[0m\u001b[1;33m(\u001b[0m\u001b[0murl\u001b[0m\u001b[1;33m,\u001b[0m \u001b[0mheaders\u001b[0m\u001b[1;33m=\u001b[0m\u001b[0mheader\u001b[0m\u001b[1;33m,\u001b[0m \u001b[0mtimeout\u001b[0m \u001b[1;33m=\u001b[0m \u001b[1;36m50000\u001b[0m\u001b[1;33m)\u001b[0m\u001b[1;33m\u001b[0m\u001b[0m\n\u001b[0m\u001b[1;32m     12\u001b[0m     \u001b[0mres\u001b[0m\u001b[1;33m.\u001b[0m\u001b[0mencoding\u001b[0m \u001b[1;33m=\u001b[0m \u001b[1;34m\"gb2312\"\u001b[0m\u001b[1;33m\u001b[0m\u001b[0m\n\u001b[1;32m     13\u001b[0m     \u001b[1;32mreturn\u001b[0m \u001b[0mBeautifulSoup\u001b[0m\u001b[1;33m(\u001b[0m\u001b[0mres\u001b[0m\u001b[1;33m.\u001b[0m\u001b[0mtext\u001b[0m\u001b[1;33m)\u001b[0m\u001b[1;33m\u001b[0m\u001b[0m\n",
      "\u001b[0;32mD:\\Anaconda3\\lib\\site-packages\\requests\\sessions.py\u001b[0m in \u001b[0;36mget\u001b[0;34m(self, url, **kwargs)\u001b[0m\n\u001b[1;32m    486\u001b[0m \u001b[1;33m\u001b[0m\u001b[0m\n\u001b[1;32m    487\u001b[0m         \u001b[0mkwargs\u001b[0m\u001b[1;33m.\u001b[0m\u001b[0msetdefault\u001b[0m\u001b[1;33m(\u001b[0m\u001b[1;34m'allow_redirects'\u001b[0m\u001b[1;33m,\u001b[0m \u001b[1;32mTrue\u001b[0m\u001b[1;33m)\u001b[0m\u001b[1;33m\u001b[0m\u001b[0m\n\u001b[0;32m--> 488\u001b[0;31m         \u001b[1;32mreturn\u001b[0m \u001b[0mself\u001b[0m\u001b[1;33m.\u001b[0m\u001b[0mrequest\u001b[0m\u001b[1;33m(\u001b[0m\u001b[1;34m'GET'\u001b[0m\u001b[1;33m,\u001b[0m \u001b[0murl\u001b[0m\u001b[1;33m,\u001b[0m \u001b[1;33m**\u001b[0m\u001b[0mkwargs\u001b[0m\u001b[1;33m)\u001b[0m\u001b[1;33m\u001b[0m\u001b[0m\n\u001b[0m\u001b[1;32m    489\u001b[0m \u001b[1;33m\u001b[0m\u001b[0m\n\u001b[1;32m    490\u001b[0m     \u001b[1;32mdef\u001b[0m \u001b[0moptions\u001b[0m\u001b[1;33m(\u001b[0m\u001b[0mself\u001b[0m\u001b[1;33m,\u001b[0m \u001b[0murl\u001b[0m\u001b[1;33m,\u001b[0m \u001b[1;33m**\u001b[0m\u001b[0mkwargs\u001b[0m\u001b[1;33m)\u001b[0m\u001b[1;33m:\u001b[0m\u001b[1;33m\u001b[0m\u001b[0m\n",
      "\u001b[0;32mD:\\Anaconda3\\lib\\site-packages\\requests\\sessions.py\u001b[0m in \u001b[0;36mrequest\u001b[0;34m(self, method, url, params, data, headers, cookies, files, auth, timeout, allow_redirects, proxies, hooks, stream, verify, cert, json)\u001b[0m\n\u001b[1;32m    473\u001b[0m         }\n\u001b[1;32m    474\u001b[0m         \u001b[0msend_kwargs\u001b[0m\u001b[1;33m.\u001b[0m\u001b[0mupdate\u001b[0m\u001b[1;33m(\u001b[0m\u001b[0msettings\u001b[0m\u001b[1;33m)\u001b[0m\u001b[1;33m\u001b[0m\u001b[0m\n\u001b[0;32m--> 475\u001b[0;31m         \u001b[0mresp\u001b[0m \u001b[1;33m=\u001b[0m \u001b[0mself\u001b[0m\u001b[1;33m.\u001b[0m\u001b[0msend\u001b[0m\u001b[1;33m(\u001b[0m\u001b[0mprep\u001b[0m\u001b[1;33m,\u001b[0m \u001b[1;33m**\u001b[0m\u001b[0msend_kwargs\u001b[0m\u001b[1;33m)\u001b[0m\u001b[1;33m\u001b[0m\u001b[0m\n\u001b[0m\u001b[1;32m    476\u001b[0m \u001b[1;33m\u001b[0m\u001b[0m\n\u001b[1;32m    477\u001b[0m         \u001b[1;32mreturn\u001b[0m \u001b[0mresp\u001b[0m\u001b[1;33m\u001b[0m\u001b[0m\n",
      "\u001b[0;32mD:\\Anaconda3\\lib\\site-packages\\requests\\sessions.py\u001b[0m in \u001b[0;36msend\u001b[0;34m(self, request, **kwargs)\u001b[0m\n\u001b[1;32m    594\u001b[0m \u001b[1;33m\u001b[0m\u001b[0m\n\u001b[1;32m    595\u001b[0m         \u001b[1;31m# Send the request\u001b[0m\u001b[1;33m\u001b[0m\u001b[1;33m\u001b[0m\u001b[0m\n\u001b[0;32m--> 596\u001b[0;31m         \u001b[0mr\u001b[0m \u001b[1;33m=\u001b[0m \u001b[0madapter\u001b[0m\u001b[1;33m.\u001b[0m\u001b[0msend\u001b[0m\u001b[1;33m(\u001b[0m\u001b[0mrequest\u001b[0m\u001b[1;33m,\u001b[0m \u001b[1;33m**\u001b[0m\u001b[0mkwargs\u001b[0m\u001b[1;33m)\u001b[0m\u001b[1;33m\u001b[0m\u001b[0m\n\u001b[0m\u001b[1;32m    597\u001b[0m \u001b[1;33m\u001b[0m\u001b[0m\n\u001b[1;32m    598\u001b[0m         \u001b[1;31m# Total elapsed time of the request (approximately)\u001b[0m\u001b[1;33m\u001b[0m\u001b[1;33m\u001b[0m\u001b[0m\n",
      "\u001b[0;32mD:\\Anaconda3\\lib\\site-packages\\requests\\adapters.py\u001b[0m in \u001b[0;36msend\u001b[0;34m(self, request, stream, timeout, verify, cert, proxies)\u001b[0m\n\u001b[1;32m    485\u001b[0m                 \u001b[1;32mraise\u001b[0m \u001b[0mProxyError\u001b[0m\u001b[1;33m(\u001b[0m\u001b[0me\u001b[0m\u001b[1;33m,\u001b[0m \u001b[0mrequest\u001b[0m\u001b[1;33m=\u001b[0m\u001b[0mrequest\u001b[0m\u001b[1;33m)\u001b[0m\u001b[1;33m\u001b[0m\u001b[0m\n\u001b[1;32m    486\u001b[0m \u001b[1;33m\u001b[0m\u001b[0m\n\u001b[0;32m--> 487\u001b[0;31m             \u001b[1;32mraise\u001b[0m \u001b[0mConnectionError\u001b[0m\u001b[1;33m(\u001b[0m\u001b[0me\u001b[0m\u001b[1;33m,\u001b[0m \u001b[0mrequest\u001b[0m\u001b[1;33m=\u001b[0m\u001b[0mrequest\u001b[0m\u001b[1;33m)\u001b[0m\u001b[1;33m\u001b[0m\u001b[0m\n\u001b[0m\u001b[1;32m    488\u001b[0m \u001b[1;33m\u001b[0m\u001b[0m\n\u001b[1;32m    489\u001b[0m         \u001b[1;32mexcept\u001b[0m \u001b[0mClosedPoolError\u001b[0m \u001b[1;32mas\u001b[0m \u001b[0me\u001b[0m\u001b[1;33m:\u001b[0m\u001b[1;33m\u001b[0m\u001b[0m\n",
      "\u001b[0;31mConnectionError\u001b[0m: HTTPConnectionPool(host='www.stats.gov.cn', port=80): Max retries exceeded with url: /tjsj/tjbz/tjyqhdmhcxhfdm/2017/65/90/03/659003504.html (Caused by NewConnectionError('<requests.packages.urllib3.connection.HTTPConnection object at 0x0000026E32100A90>: Failed to establish a new connection: [WinError 10060] 由于连接方在一段时间后没有正确答复或连接的主机没有反应，连接尝试失败。',))"
     ]
    }
   ],
   "source": [
    "%%time\n",
    "# 地址格式(五级)\n",
    "# 省 市 区/县 乡镇/街道 居委会\n",
    "\"\"\"\n",
    "算法：\n",
    "    1. 创建一个行标，一个空数组，用于存放行政区划\n",
    "    2. 从根路径index开始，采用深度优先搜索策略\n",
    "        爬取当前页面，如果当前页面有链接，则压入栈内\n",
    "                      如果当前页面没有链接(除了外链)，即已经爬到了末端，将该页面的内容写入行政区划表，row+1\n",
    "        取栈中的下一个地址\n",
    "            如果栈中记录的不是地址，那么row-1，并在对应列中写入栈中记入的数据，row+1\n",
    "            取栈中的下一个地址\n",
    "    3. 空值填充，后向填充\n",
    "\"\"\"\n",
    "row = 0\n",
    "df_district = pd.DataFrame()\n",
    "\n",
    "html_list = [{\"url\":\"%s/%s\" %(dir_base, \"index.html\")}]\n",
    "\n",
    "f = open(r\"E:\\workspace\\0. git\\project\\4. 网络爬虫\\2. 爬虫实战\\1. 全国行政区划\\addr.txt\", \"w\")\n",
    "\n",
    "while len(html_list) > 0:\n",
    "    time.sleep(random.random())   # 休眠随机秒(0-1秒)\n",
    "    node = html_list.pop()\n",
    "    if \"url\" in list(node.keys()):\n",
    "        url = node[\"url\"]\n",
    "    else:\n",
    "        key_no = node[\"key_no\"]\n",
    "        value_no = node[\"value_no\"]\n",
    "        tag = node[\"tag\"]\n",
    "        value_tag = node[\"value_tag\"]\n",
    "        \n",
    "        row -= 1\n",
    "        df_district.loc[row, key_no] = value_no\n",
    "        df_district.loc[row, tag] = value_tag\n",
    "        row += 1\n",
    "        continue\n",
    "    \n",
    "    soup = get_html(url)\n",
    "    # 如果找到a\n",
    "    if len(soup.find_all(\"a\")) == 1: # 如果找到的a标签只有1个，即[<a class=\"STYLE3\" href=\"http://www.miibeian.gov.cn/\" target=\"_blank\">京ICP备05034670号</a>]，表示爬到了末端\n",
    "        for link in soup.select('tr[class=\"villagetr\"]'):\n",
    "            df_district.loc[row, \"v_no\"] = link.find_all(\"td\")[1].get_text()\n",
    "            df_district.loc[row, \"village\"] = link.find_all(\"td\")[2].get_text()\n",
    "            \n",
    "#             df_district.loc[row, \"t_no\"] = link.find_all(\"td\")[1].get_text()\n",
    "#             df_district.loc[row, \"town\"] = link.find_all(\"td\")[2].get_text()\n",
    "            \n",
    "            row += 1\n",
    "        continue\n",
    "        \n",
    "    for link in soup.find_all(\"a\"):\n",
    "        html = link.get(\"href\")\n",
    "        tag = link.get_text()\n",
    "        \n",
    "        if html.startswith(\"http\") == False and re.match(r\"\\d+\", tag) is None:\n",
    "            if len(html) == 7:\n",
    "                html_list.append({\"tag\":\"province\", \"value_tag\":tag, \"key_no\":\"p_no\", \"value_no\":html[:2]})\n",
    "                r = \"%s/%s\" %(dir_base, html)\n",
    "            elif len(html) == 12:\n",
    "                html_list.append({\"tag\":\"city\", \"value_tag\":tag, \"key_no\":\"c_no\", \"value_no\":html[3:7]})\n",
    "                r = \"%s/%s\" %(dir_base, html)\n",
    "            elif len(html) == 14:\n",
    "                html_list.append({\"tag\":\"district\", \"value_tag\":tag, \"key_no\":\"d_no\", \"value_no\":html[3:9]})\n",
    "                r = \"%s/%s/%s\" %(dir_base, html[3:5], html)\n",
    "            elif len(html) == 17:\n",
    "                html_list.append({\"tag\":\"town\", \"value_tag\":tag, \"key_no\":\"t_no\", \"value_no\":html[3:12]})\n",
    "                r = \"%s/%s/%s/%s\" %(dir_base, html[3:5], html[5:7], html)\n",
    "                \n",
    "            html_list.append({\"url\":r})\n",
    "            f.write(\"%s\\n\" %(r))\n",
    "f.close()"
   ]
  },
  {
   "cell_type": "code",
   "execution_count": 6,
   "metadata": {
    "collapsed": false
   },
   "outputs": [
    {
     "data": {
      "text/html": [
       "<div>\n",
       "<table border=\"1\" class=\"dataframe\">\n",
       "  <thead>\n",
       "    <tr style=\"text-align: right;\">\n",
       "      <th></th>\n",
       "      <th>v_no</th>\n",
       "      <th>village</th>\n",
       "      <th>t_no</th>\n",
       "      <th>town</th>\n",
       "      <th>d_no</th>\n",
       "      <th>district</th>\n",
       "      <th>c_no</th>\n",
       "      <th>city</th>\n",
       "    </tr>\n",
       "  </thead>\n",
       "  <tbody>\n",
       "    <tr>\n",
       "      <th>0</th>\n",
       "      <td>121</td>\n",
       "      <td>虚拟社区</td>\n",
       "      <td>659006101</td>\n",
       "      <td>双丰镇</td>\n",
       "      <td>659004</td>\n",
       "      <td>五家渠市</td>\n",
       "      <td>6590</td>\n",
       "      <td>自治区直辖县级行政区划</td>\n",
       "    </tr>\n",
       "    <tr>\n",
       "      <th>1</th>\n",
       "      <td>111</td>\n",
       "      <td>虚拟社区</td>\n",
       "      <td>659006100</td>\n",
       "      <td>博古其镇</td>\n",
       "      <td>659004</td>\n",
       "      <td>五家渠市</td>\n",
       "      <td>6590</td>\n",
       "      <td>自治区直辖县级行政区划</td>\n",
       "    </tr>\n",
       "    <tr>\n",
       "      <th>2</th>\n",
       "      <td>123</td>\n",
       "      <td>喀拉拜勒社区</td>\n",
       "      <td>659003514</td>\n",
       "      <td>兵团图木舒克市喀拉拜勒镇</td>\n",
       "      <td>659003</td>\n",
       "      <td>图木舒克市</td>\n",
       "      <td>6590</td>\n",
       "      <td>自治区直辖县级行政区划</td>\n",
       "    </tr>\n",
       "    <tr>\n",
       "      <th>3</th>\n",
       "      <td>220</td>\n",
       "      <td>北闸水管站生活区</td>\n",
       "      <td>659003514</td>\n",
       "      <td>兵团图木舒克市喀拉拜勒镇</td>\n",
       "      <td>659003</td>\n",
       "      <td>图木舒克市</td>\n",
       "      <td>6590</td>\n",
       "      <td>自治区直辖县级行政区划</td>\n",
       "    </tr>\n",
       "    <tr>\n",
       "      <th>4</th>\n",
       "      <td>220</td>\n",
       "      <td>南闸水管站生活区</td>\n",
       "      <td>659003514</td>\n",
       "      <td>兵团图木舒克市喀拉拜勒镇</td>\n",
       "      <td>659003</td>\n",
       "      <td>图木舒克市</td>\n",
       "      <td>6590</td>\n",
       "      <td>自治区直辖县级行政区划</td>\n",
       "    </tr>\n",
       "    <tr>\n",
       "      <th>5</th>\n",
       "      <td>220</td>\n",
       "      <td>渔业公司生活区</td>\n",
       "      <td>659003514</td>\n",
       "      <td>兵团图木舒克市喀拉拜勒镇</td>\n",
       "      <td>659003</td>\n",
       "      <td>图木舒克市</td>\n",
       "      <td>6590</td>\n",
       "      <td>自治区直辖县级行政区划</td>\n",
       "    </tr>\n",
       "    <tr>\n",
       "      <th>6</th>\n",
       "      <td>220</td>\n",
       "      <td>林管站生活区</td>\n",
       "      <td>659003514</td>\n",
       "      <td>兵团图木舒克市喀拉拜勒镇</td>\n",
       "      <td>659003</td>\n",
       "      <td>图木舒克市</td>\n",
       "      <td>6590</td>\n",
       "      <td>自治区直辖县级行政区划</td>\n",
       "    </tr>\n",
       "    <tr>\n",
       "      <th>7</th>\n",
       "      <td>123</td>\n",
       "      <td>团部</td>\n",
       "      <td>659003513</td>\n",
       "      <td>兵团五十三团</td>\n",
       "      <td>659003</td>\n",
       "      <td>图木舒克市</td>\n",
       "      <td>6590</td>\n",
       "      <td>自治区直辖县级行政区划</td>\n",
       "    </tr>\n",
       "    <tr>\n",
       "      <th>8</th>\n",
       "      <td>220</td>\n",
       "      <td>一连</td>\n",
       "      <td>659003513</td>\n",
       "      <td>兵团五十三团</td>\n",
       "      <td>659003</td>\n",
       "      <td>图木舒克市</td>\n",
       "      <td>6590</td>\n",
       "      <td>自治区直辖县级行政区划</td>\n",
       "    </tr>\n",
       "    <tr>\n",
       "      <th>9</th>\n",
       "      <td>220</td>\n",
       "      <td>二连</td>\n",
       "      <td>659003513</td>\n",
       "      <td>兵团五十三团</td>\n",
       "      <td>659003</td>\n",
       "      <td>图木舒克市</td>\n",
       "      <td>6590</td>\n",
       "      <td>自治区直辖县级行政区划</td>\n",
       "    </tr>\n",
       "  </tbody>\n",
       "</table>\n",
       "</div>"
      ],
      "text/plain": [
       "  v_no   village       t_no          town    d_no district  c_no         city\n",
       "0  121      虚拟社区  659006101           双丰镇  659004     五家渠市  6590  自治区直辖县级行政区划\n",
       "1  111      虚拟社区  659006100          博古其镇  659004     五家渠市  6590  自治区直辖县级行政区划\n",
       "2  123    喀拉拜勒社区  659003514  兵团图木舒克市喀拉拜勒镇  659003    图木舒克市  6590  自治区直辖县级行政区划\n",
       "3  220  北闸水管站生活区  659003514  兵团图木舒克市喀拉拜勒镇  659003    图木舒克市  6590  自治区直辖县级行政区划\n",
       "4  220  南闸水管站生活区  659003514  兵团图木舒克市喀拉拜勒镇  659003    图木舒克市  6590  自治区直辖县级行政区划\n",
       "5  220   渔业公司生活区  659003514  兵团图木舒克市喀拉拜勒镇  659003    图木舒克市  6590  自治区直辖县级行政区划\n",
       "6  220    林管站生活区  659003514  兵团图木舒克市喀拉拜勒镇  659003    图木舒克市  6590  自治区直辖县级行政区划\n",
       "7  123        团部  659003513        兵团五十三团  659003    图木舒克市  6590  自治区直辖县级行政区划\n",
       "8  220        一连  659003513        兵团五十三团  659003    图木舒克市  6590  自治区直辖县级行政区划\n",
       "9  220        二连  659003513        兵团五十三团  659003    图木舒克市  6590  自治区直辖县级行政区划"
      ]
     },
     "execution_count": 6,
     "metadata": {},
     "output_type": "execute_result"
    }
   ],
   "source": [
    "df_district.fillna(method=\"backfill\", inplace=True)\n",
    "\n",
    "df_district.head(10)"
   ]
  },
  {
   "cell_type": "code",
   "execution_count": null,
   "metadata": {
    "collapsed": false
   },
   "outputs": [],
   "source": [
    "len(html_list)"
   ]
  },
  {
   "cell_type": "code",
   "execution_count": null,
   "metadata": {
    "collapsed": false
   },
   "outputs": [],
   "source": [
    "df_district.to_csv(r\"C:\\Users\\Progress\\Desktop\\district.csv\")"
   ]
  },
  {
   "cell_type": "code",
   "execution_count": null,
   "metadata": {
    "collapsed": false
   },
   "outputs": [],
   "source": [
    "html_list"
   ]
  },
  {
   "cell_type": "code",
   "execution_count": null,
   "metadata": {
    "collapsed": true
   },
   "outputs": [],
   "source": []
  }
 ],
 "metadata": {
  "anaconda-cloud": {},
  "kernelspec": {
   "display_name": "Python [default]",
   "language": "python",
   "name": "python3"
  },
  "language_info": {
   "codemirror_mode": {
    "name": "ipython",
    "version": 3
   },
   "file_extension": ".py",
   "mimetype": "text/x-python",
   "name": "python",
   "nbconvert_exporter": "python",
   "pygments_lexer": "ipython3",
   "version": "3.5.2"
  }
 },
 "nbformat": 4,
 "nbformat_minor": 1
}
