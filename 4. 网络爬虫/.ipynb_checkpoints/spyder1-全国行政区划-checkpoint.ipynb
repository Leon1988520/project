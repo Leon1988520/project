{
 "cells": [
  {
   "cell_type": "markdown",
   "metadata": {},
   "source": [
    "# 爬取全国行政区划\n",
    "\n",
    "\n",
    "1. 网站地址[http://www.stats.gov.cn/tjsj/tjbz/tjyqhdmhcxhfdm/2017/index.html](http://www.stats.gov.cn/tjsj/tjbz/tjyqhdmhcxhfdm/2017/index.html)\n",
    "\n",
    "\n",
    "## 爬取策略\n",
    "1. 爬取主页数据，将链接数据入队\n",
    "2. 在队列中，依次拿出各网址，爬取该网址的数据，入队\n",
    "3. 每一页中，逐行将链接的文字，放入数据库中\n",
    "\n",
    "\n",
    "## 知识点\n",
    "1. requests\n",
    "2. beautifulsoup\n",
    "3. 爬虫攻防：构建头\n",
    "\n",
    "\n",
    "## 参考\n",
    "1. [python简单爬虫](http://cache.baiducontent.com/c?m=9d78d513d9810ae902b0c8690d67c0171e43f1612ba7d10208d08448e2320c1e1a72a4fb792d4a4295873d7000dc5441afb57365377471ebcb96d51f9cac925f7ed57829234cd11f539404edd64126c327975ce9b81990e0b66dcd&p=b4769a4786cc4ae000a48e2c4f&newp=82769a47928911a053a4d6275953d8224216ed623fd4c44324b9d71fd325001c1b69e7bc2d261702d4c4796d0bad4d5aeef63078341766dada9fca458ae7c46c65&user=baidu&fm=sc&query=python+%C5%C0%B3%E6+demo&qid=bd8c9e6500034ce3&p1=2)\n",
    "2. [1个小白五小时的爬虫经历](https://www.cnblogs.com/panzi/p/6421826.html)\n",
    "3. [32个爬虫项目-让你一次吃到饱](https://blog.csdn.net/qq_41396296/article/details/79428834)"
   ]
  },
  {
   "cell_type": "code",
   "execution_count": 17,
   "metadata": {},
   "outputs": [],
   "source": [
    "# 引入库\n",
    "import requests\n",
    "import re\n",
    "from bs4 import BeautifulSoup\n",
    "\n",
    "\n",
    "dir_base = \"http://www.stats.gov.cn/tjsj/tjbz/tjyqhdmhcxhfdm/2017\""
   ]
  },
  {
   "cell_type": "code",
   "execution_count": 18,
   "metadata": {
    "collapsed": true
   },
   "outputs": [
    {
     "name": "stderr",
     "output_type": "stream",
     "text": [
      "C:\\toolkit\\anaconda3\\lib\\site-packages\\bs4\\__init__.py:181: UserWarning: No parser was explicitly specified, so I'm using the best available HTML parser for this system (\"lxml\"). This usually isn't a problem, but if you run this code on another system, or in a different virtual environment, it may use a different parser and behave differently.\n",
      "\n",
      "The code that caused this warning is on line 193 of the file C:\\toolkit\\anaconda3\\lib\\runpy.py. To get rid of this warning, change code that looks like this:\n",
      "\n",
      " BeautifulSoup(YOUR_MARKUP})\n",
      "\n",
      "to this:\n",
      "\n",
      " BeautifulSoup(YOUR_MARKUP, \"lxml\")\n",
      "\n",
      "  markup_type=markup_type))\n"
     ]
    },
    {
     "data": {
      "text/plain": [
       "[<a href=\"11.html\">北京市<br/></a>,\n",
       " <a href=\"12.html\">天津市<br/></a>,\n",
       " <a href=\"13.html\">河北省<br/></a>,\n",
       " <a href=\"14.html\">山西省<br/></a>,\n",
       " <a href=\"15.html\">内蒙古自治区<br/></a>,\n",
       " <a href=\"21.html\">辽宁省<br/></a>,\n",
       " <a href=\"22.html\">吉林省<br/></a>,\n",
       " <a href=\"23.html\">黑龙江省<br/></a>,\n",
       " <a href=\"31.html\">上海市<br/></a>,\n",
       " <a href=\"32.html\">江苏省<br/></a>,\n",
       " <a href=\"33.html\">浙江省<br/></a>,\n",
       " <a href=\"34.html\">安徽省<br/></a>,\n",
       " <a href=\"35.html\">福建省<br/></a>,\n",
       " <a href=\"36.html\">江西省<br/></a>,\n",
       " <a href=\"37.html\">山东省<br/></a>,\n",
       " <a href=\"41.html\">河南省<br/></a>,\n",
       " <a href=\"42.html\">湖北省<br/></a>,\n",
       " <a href=\"43.html\">湖南省<br/></a>,\n",
       " <a href=\"44.html\">广东省<br/></a>,\n",
       " <a href=\"45.html\">广西壮族自治区<br/></a>,\n",
       " <a href=\"46.html\">海南省<br/></a>,\n",
       " <a href=\"50.html\">重庆市<br/></a>,\n",
       " <a href=\"51.html\">四川省<br/></a>,\n",
       " <a href=\"52.html\">贵州省<br/></a>,\n",
       " <a href=\"53.html\">云南省<br/></a>,\n",
       " <a href=\"54.html\">西藏自治区<br/></a>,\n",
       " <a href=\"61.html\">陕西省<br/></a>,\n",
       " <a href=\"62.html\">甘肃省<br/></a>,\n",
       " <a href=\"63.html\">青海省<br/></a>,\n",
       " <a href=\"64.html\">宁夏回族自治区<br/></a>,\n",
       " <a href=\"65.html\">新疆维吾尔自治区<br/></a>,\n",
       " <a class=\"STYLE3\" href=\"http://www.miibeian.gov.cn/\" target=\"_blank\">京ICP备05034670号</a>]"
      ]
     },
     "execution_count": 18,
     "metadata": {},
     "output_type": "execute_result"
    }
   ],
   "source": [
    "# 获得html文档\n",
    "def get_html(url):\n",
    "    \"\"\"get the content of the url\"\"\"\n",
    "    session = requests.Session()\n",
    "    \n",
    "    header = {\n",
    "        \"User-Agent\":\"Mozilla/5.0 (Windows NT 6.3; WOW64) AppleWebKit/537.36 (KHTML, like Gecko) Chrome/52.0.2743.82 Safari/537.36\"\n",
    "    }\n",
    "    res = session.get(url, headers=header)\n",
    "    res.encoding = \"gb2312\"\n",
    "    return BeautifulSoup(res.text)\n",
    "\n",
    "soup = get_html(\"%s/%s\" %(dir_base, \"index.html\"))\n",
    "soup.find_all(\"a\")"
   ]
  },
  {
   "cell_type": "code",
   "execution_count": 19,
   "metadata": {
    "collapsed": true
   },
   "outputs": [
    {
     "name": "stdout",
     "output_type": "stream",
     "text": [
      "11.html 北京市\n",
      "12.html 天津市\n",
      "13.html 河北省\n",
      "14.html 山西省\n",
      "15.html 内蒙古自治区\n",
      "21.html 辽宁省\n",
      "22.html 吉林省\n",
      "23.html 黑龙江省\n",
      "31.html 上海市\n",
      "32.html 江苏省\n",
      "33.html 浙江省\n",
      "34.html 安徽省\n",
      "35.html 福建省\n",
      "36.html 江西省\n",
      "37.html 山东省\n",
      "41.html 河南省\n",
      "42.html 湖北省\n",
      "43.html 湖南省\n",
      "44.html 广东省\n",
      "45.html 广西壮族自治区\n",
      "46.html 海南省\n",
      "50.html 重庆市\n",
      "51.html 四川省\n",
      "52.html 贵州省\n",
      "53.html 云南省\n",
      "54.html 西藏自治区\n",
      "61.html 陕西省\n",
      "62.html 甘肃省\n",
      "63.html 青海省\n",
      "64.html 宁夏回族自治区\n",
      "65.html 新疆维吾尔自治区\n",
      "http://www.miibeian.gov.cn/ 京ICP备05034670号\n"
     ]
    }
   ],
   "source": [
    "# demo\n",
    "for link in soup.find_all(\"a\"):\n",
    "    print(link.get(\"href\"), link.get_text())"
   ]
  },
  {
   "cell_type": "code",
   "execution_count": null,
   "metadata": {
    "scrolled": true
   },
   "outputs": [
    {
     "name": "stderr",
     "output_type": "stream",
     "text": [
      "C:\\toolkit\\anaconda3\\lib\\site-packages\\bs4\\__init__.py:181: UserWarning: No parser was explicitly specified, so I'm using the best available HTML parser for this system (\"lxml\"). This usually isn't a problem, but if you run this code on another system, or in a different virtual environment, it may use a different parser and behave differently.\n",
      "\n",
      "The code that caused this warning is on line 193 of the file C:\\toolkit\\anaconda3\\lib\\runpy.py. To get rid of this warning, change code that looks like this:\n",
      "\n",
      " BeautifulSoup(YOUR_MARKUP})\n",
      "\n",
      "to this:\n",
      "\n",
      " BeautifulSoup(YOUR_MARKUP, \"lxml\")\n",
      "\n",
      "  markup_type=markup_type))\n"
     ]
    }
   ],
   "source": [
    "# 地址格式(五级)\n",
    "\n",
    "# 省 市 区/县 乡镇/街道 居委会\n",
    "\n",
    "html_list = [\"%s/%s\" %(dir_base, \"index.html\")]\n",
    "\n",
    "while len(html_list) > 0:\n",
    "    url = html_list.pop()\n",
    "    \n",
    "    soup = get_html(url)\n",
    "    for link in soup.find_all(\"a\"):\n",
    "        html = link.get(\"href\")\n",
    "        tag = link.get_text()\n",
    "        \n",
    "        if html.startswith(\"http\") == False and re.match(r\"\\d+\", tag) is None:\n",
    "            if len(html) == 7 or len(html) == 12:\n",
    "                r = \"%s/%s\" %(dir_base, html)\n",
    "            elif len(html) == 14:\n",
    "                r = \"%s/%s/%s\" %(dir_base, html[3:5], html)\n",
    "            elif len(html) == 17:\n",
    "                r = \"%s/%s/%s/%s\" %(dir_base, html[3:5], html[5:7], html)\n",
    "                \n",
    "            html_list.append(r)\n",
    "            with open(r\"E:\\git\\3. git\\project\\4. 网络爬虫\\addr.txt\", \"a\") as f:\n",
    "                f.write(\"%s\\n\" %(r))\n",
    "        \n",
    "        "
   ]
  },
  {
   "cell_type": "code",
   "execution_count": 30,
   "metadata": {},
   "outputs": [
    {
     "data": {
      "text/plain": [
       "17"
      ]
     },
     "execution_count": 30,
     "metadata": {},
     "output_type": "execute_result"
    }
   ],
   "source": [
    "len(\"30/361030106.html\")"
   ]
  },
  {
   "cell_type": "code",
   "execution_count": 29,
   "metadata": {},
   "outputs": [
    {
     "data": {
      "text/plain": [
       "'36'"
      ]
     },
     "execution_count": 29,
     "metadata": {},
     "output_type": "execute_result"
    }
   ],
   "source": [
    "\"10/361030.html\"[3:5]"
   ]
  },
  {
   "cell_type": "code",
   "execution_count": null,
   "metadata": {},
   "outputs": [],
   "source": []
  }
 ],
 "metadata": {
  "anaconda-cloud": {},
  "kernelspec": {
   "display_name": "Python 3",
   "language": "python",
   "name": "python3"
  },
  "language_info": {
   "codemirror_mode": {
    "name": "ipython",
    "version": 3
   },
   "file_extension": ".py",
   "mimetype": "text/x-python",
   "name": "python",
   "nbconvert_exporter": "python",
   "pygments_lexer": "ipython3",
   "version": "3.6.5"
  }
 },
 "nbformat": 4,
 "nbformat_minor": 1
}
