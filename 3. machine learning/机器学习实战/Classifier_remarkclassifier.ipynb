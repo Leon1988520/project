{
 "cells": [
  {
   "cell_type": "markdown",
   "metadata": {},
   "source": [
    "# Classifier\n",
    "\n",
    "http://www.cnblogs.com/rongyux/p/5645131.html\n",
    "\n",
    "https://www.reddit.com/r/AskReddit/comments/4qfh01/what_are_some_classes_you_must_take_in/\n",
    "\n",
    "# 引言\n",
    "本程序是一个完整的机器学习过程，先编写基于python的爬虫脚本，爬取目标论坛网站的评论到本地存储，然后使用贝叶斯分类模型对评论进行分类，预测新的评论是否为垃圾评论。如果遇到大数据量的问题，可以把贝叶斯算法写成mapreduce模式，map负责把数据集划分成键值对格式，类序号为key，属 性向量为value，reduce进行汇总每类的先验概率和条件概率，主server汇总所有类的统计量。"
   ]
  },
  {
   "cell_type": "code",
   "execution_count": 33,
   "metadata": {
    "collapsed": true
   },
   "outputs": [],
   "source": [
    "import requests\n",
    "from bs4 import BeautifulSoup\n",
    "import re\n",
    "import json\n",
    "import time"
   ]
  },
  {
   "cell_type": "markdown",
   "metadata": {},
   "source": [
    "# 爬虫\n",
    "\n",
    "1 编写爬虫脚本，爬取目标论坛的评论。其中，headers是必须的，因为我们需要伪装成浏览器在访问论坛的服务器。使用requests包获取指定url的数据流。"
   ]
  },
  {
   "cell_type": "code",
   "execution_count": 10,
   "metadata": {
    "collapsed": false
   },
   "outputs": [],
   "source": [
    "headers = {\n",
    "'Accept': 'text/html,application/xhtml+xml,application/xml;q=0.9,*/*;q=0.8',\n",
    "'Accept-Language': 'zh-CN,zh;q=0.8,en-US;q=0.5,en;q=0.3',\n",
    "'Accept-Encoding': 'gzip, deflate, br',\n",
    "'Connection': 'keep-alive',\n",
    "'Cookie': '__cfduid=d653bf931cbde10f9243b63e991f70dc41466778585; loid=a5WUnHRHlleKL9OSSR; loidcreated=2016-06-24T14%3A29%3A45.413Z; _recent_srs=t5_2qu49; _ga=GA1.2.54465388.1466778724; pc=ne; __utma=55650728.54465388.1466778724.1466778728.1466843492.2; __utmz=55650728.1466778728.1.1.utmcsr=(direct)|utmccn=(direct)|utmcmd=(none); __utmb=55650728.0.10.1466843492; __utmc=55650728',\n",
    "'Host': 'www.reddit.com',\n",
    "'User-Agent': 'Mozilla/5.0 (Windows NT 10.0; WOW64; rv:47.0) Gecko/20100101 Firefox/47.0',\n",
    "}\n",
    "\n",
    "url = 'https://www.reddit.com/r/AskReddit/comments/4qfh01/what_are_some_classes_you_must_take_in/'\n",
    "r = requests.get(url,headers=headers)\n",
    "r.encoding = r.apparent_encoding"
   ]
  },
  {
   "cell_type": "markdown",
   "metadata": {},
   "source": [
    "2 使用BeautifulSoup解析爬去的html文件，css定位我们需要的字段，输出到本地文件comments.txt保存即可。"
   ]
  },
  {
   "cell_type": "code",
   "execution_count": 43,
   "metadata": {
    "collapsed": false
   },
   "outputs": [
    {
     "name": "stderr",
     "output_type": "stream",
     "text": [
      "D:\\Anaconda3\\lib\\site-packages\\bs4\\__init__.py:181: UserWarning: No parser was explicitly specified, so I'm using the best available HTML parser for this system (\"lxml\"). This usually isn't a problem, but if you run this code on another system, or in a different virtual environment, it may use a different parser and behave differently.\n",
      "\n",
      "The code that caused this warning is on line 193 of the file D:\\Anaconda3\\lib\\runpy.py. To get rid of this warning, change code that looks like this:\n",
      "\n",
      " BeautifulSoup([your markup])\n",
      "\n",
      "to this:\n",
      "\n",
      " BeautifulSoup([your markup], \"lxml\")\n",
      "\n",
      "  markup_type=markup_type))\n"
     ]
    },
    {
     "name": "stdout",
     "output_type": "stream",
     "text": [
      "[[\n",
      "Underwater Basket Weaving 101\n",
      "Most colleges have required courses that you need to take depending on your major or other various factors. \n",
      "It differs between colleges, some of my friends go to different school and they have to take classes ive never heard of. Also depends on the major of the student\n",
      "No matter what your major is, you should try to take a personal finance class. It teaches you really valuable skills that translate across majors, like the basics of investing your income and saving for retirement.\n",
      "[deleted]\n",
      "I wish\n",
      "It depends on the institution and your major. Typically in my state an english, math, gender studies, and history class is all needed. Also a basic science course. We are also now mandated to take an online course in sexual assault and consent and I am interested to see how that plays out\n",
      "What state requires gender studies?\n",
      "Wisconsin. At least for their state schools which are typically more liberal arts than technical\n",
      "I go to a Jesuit University in the Philippines and every student, no matter the course, goes through the same core curriculum which gets up to about half your total load. For most courses, freshman year is nothing but those core subjects and nothing to do with your major. \n",
      "In mostly the last two years, you take four classes in philosophy and four in theology. The same eight classes for everyone. For philosophy, it\\'s philosophy of the human person I and II, philosophy of religion, and then ethics. For theology it\\'s doing \"an introduction to doing catholic theology\", \"marriage, family life and sexuality in a catholic perspective\", \"a theology of the catholic social vision\", and \"the catholic commitment of today\\'s filipino: a synthesis.\"\n",
      "Thankfully those two departments are considered to have the strongest faculties, and the good professors are beloved and often inspiring even to their atheist students. Two of the most popular from the theology department are pretty strongly liberal. One introduces himself as \"a catholic, despite what the bishops may tell you\" and is fully pro LGBT (supports gay marriage, for example) and pro choice. It\\'s very interesting to see how they articulate their views theologically.\n",
      "Earlier on it's basically more high school stuff, like literature, history, math and natural sciences. That's standard for most universities in the country because basic schooling has up until last year not covered enough.\n",
      "Anything Humanities... Look for the good professors. It's a really great way to work on your critical thinking skills. Those classes have brought me so much in my professional life.\n",
      "It's not real college unless you go through a few courses lf linear algebra, calculus and multi-variable calculus.\n",
      "I honestly have a really hard time understanding what people do in college if they don't have any classes involving math. \n",
      "At my college it was so obvious who were studying what in the study areas. People who studied to become teachers and stuff would leave between 1-2PM, lawyers and economists around 5PM and me and the rest of the engineers would head home when we were being chased out.\n",
      "Eh, i disagree. Tons of majors have 0 need for calculus outside of the problem solving ability aspect. 90% of the time simple trig/algebra will get you through day to day. And if you never take a physics class it feels even more pointless. \n",
      "I know, but I have a really hard time to wrap my head around what peoplr do in college then. In my head it doesn't feel like a real proper education unless you go through at least a bit of math. \n",
      "I can't wrap my head around that people go to college just to read and discuss books and write a few qualitative reports.\n",
      "I can understand that. Im finishing up biochem but I also read a lot. So I enjoy the problem solving and learning processes and functions and creating, but i also get the desire to learn and understand and interpret something that isn't quantitative and not necessarily concrete. Different strokes, sounds like you're meant to be an engineer though\n"
     ]
    }
   ],
   "source": [
    "soup = BeautifulSoup(r.text)\n",
    "res = soup.select(\"div.md\")\n",
    "comments = []\n",
    "for item1 in res[1:]:\n",
    "    comments.append(item1.contents)\n",
    "# print(comments)\n",
    "\n",
    "fd = open('comments.txt','w+')\n",
    "p_soup = BeautifulSoup(str(comments))\n",
    "res2 = p_soup.findAll('p')\n",
    "for item2 in res2:\n",
    "    ct = str(item2.contents)\n",
    "    print(ct[2:-2])\n",
    "    fd.write(ct[2:-2] + '\\n')\n",
    "fd.close()"
   ]
  },
  {
   "cell_type": "markdown",
   "metadata": {},
   "source": [
    "# 三 实战1 -文本分类（应用过滤恶意留言等）"
   ]
  },
  {
   "cell_type": "markdown",
   "metadata": {},
   "source": [
    "下面是二分类问题，文档只能属于0和1两个类别，\n",
    "\n",
    "## 1 载入数据集：本地读取文件comments.txt中爬虫爬取的评论。\n",
    "\n",
    "> 在爬虫爬取评论之后，需要人为对每条评论是否是恶意留言进行标注"
   ]
  },
  {
   "cell_type": "code",
   "execution_count": 51,
   "metadata": {
    "collapsed": false
   },
   "outputs": [
    {
     "name": "stdout",
     "output_type": "stream",
     "text": [
      "1 Underwater Basket Weaving 010\n",
      "\n",
      "0 Most colleges have required courses that you need to take depending on your major or other various factors. \n",
      "\n",
      "0 It differs between colleges, some of my friends go to different school and they have to take classes ive never heard of. Also depends on the major of the student\n",
      "\n",
      "0 No matter what your major is, you should try to take a personal finance class. It teaches you really valuable skills that translate across majors, like the basics of investing your income and saving for retirement.\n",
      "\n",
      "1 I wish\n",
      "\n",
      "0 It depends on the institution and your major. Typically in my state an english, math, gender studies, and history class is all needed. Also a basic science course. We are also now mandated to take an online course in sexual assault and consent and I am interested to see how that plays out\n",
      "\n",
      "1 What state requires gender studies?\n",
      "\n",
      "0 Wisconsin. At least for their state schools which are typically more liberal arts than technical\n",
      "\n",
      "0 I go to a Jesuit University in the Philippines and every student, no matter the course, goes through the same core curriculum which gets up to about half your total load. For most courses, freshman year is nothing but those core subjects and nothing to do with your major. \n",
      "\n",
      "0 In mostly the last two years, you take four classes in philosophy and four in theology. The same eight classes for everyone. For philosophy, it\\'s philosophy of the human person I and II, philosophy of religion, and then ethics. For theology it\\'s doing \"an introduction to doing catholic theology\", \"marriage, family life and sexuality in a catholic perspective\", \"a theology of the catholic social vision\", and \"the catholic commitment of today\\'s filipino: a synthesis.\"\n",
      "\n",
      "0 Thankfully those two departments are considered to have the strongest faculties, and the good professors are beloved and often inspiring even to their atheist students. Two of the most popular from the theology department are pretty strongly liberal. One introduces himself as \"a catholic, despite what the bishops may tell you\" and is fully pro LGBT (supports gay marriage, for example) and pro choice. It\\'s very interesting to see how they articulate their views theologically.\n",
      "\n",
      "0 Earlier on it's basically more high school stuff, like literature, history, math and natural sciences. That's standard for most universities in the country because basic schooling has up until last year not covered enough.\n",
      "\n",
      "0 Anything Humanities... Look for the good professors. It's a really great way to work on your critical thinking skills. Those classes have brought me so much in my professional life.\n",
      "\n",
      "0 It's not real college unless you go through a few courses lf linear algebra, calculus and multi-variable calculus.\n",
      "\n",
      "0 I honestly have a really hard time understanding what people do in college if they don't have any classes involving math. \n",
      "\n",
      "0 At my college it was so obvious who were studying what in the study areas. People who studied to become teachers and stuff would leave between 0-0PM, lawyers and economists around 5PM and me and the rest of the engineers would head home when we were being chased out.\n",
      "\n",
      "0 Eh, i disagree. Tons of majors have 1 need for calculus outside of the problem solving ability aspect. 91% of the time simple trig/algebra will get you through day to day. And if you never take a physics class it feels even more pointless. \n",
      "\n",
      "0 I know, but I have a really hard time to wrap my head around what peoplr do in college then. In my head it doesn't feel like a real proper education unless you go through at least a bit of math. \n",
      "\n",
      "0 I can't wrap my head around that people go to college just to read and discuss books and write a few qualitative reports.\n",
      "\n",
      "0 I can understand that. Im finishing up biochem but I also read a lot. So I enjoy the problem solving and learning processes and functions and creating, but i also get the desire to learn and understand and interpret something that isn't quantitative and not necessarily concrete. Different strokes, sounds like you're meant to be an engineer though\n"
     ]
    }
   ],
   "source": [
    "from numpy import *\n",
    "def loadDataSet():\n",
    "    fd = open('comments.txt')\n",
    "    postingList = []\n",
    "    classVec = []\n",
    "    for line in fd.readlines():\n",
    "        print(line)\n",
    "        tmp = line.split()\n",
    "        postingList.append(tmp[1:])\n",
    "        classVec.append(int(tmp[0]))\n",
    "    return postingList,classVec\n",
    "\n",
    "postingList,classVec = loadDataSet()"
   ]
  },
  {
   "cell_type": "markdown",
   "metadata": {},
   "source": [
    "## 2 创建词汇表：利用集合结构内元素的唯一性，创建一个包含所有词汇的词表。"
   ]
  },
  {
   "cell_type": "code",
   "execution_count": 36,
   "metadata": {
    "collapsed": false
   },
   "outputs": [],
   "source": [
    "def createVocabList(dataSet):\n",
    "    vocabSet = set([])  #create empty set\n",
    "    for document in dataSet:\n",
    "        vocabSet = vocabSet | set(document) #union of the two sets\n",
    "    return list(vocabSet)\n",
    "vocabSet = createVocabList(postingList)"
   ]
  },
  {
   "cell_type": "markdown",
   "metadata": {},
   "source": [
    "## 3 把输入文本根据词表转化为计算机可处理的01向量形式：\n",
    "\n",
    "　　eq，测试文本1： ['love', 'my', 'dalmation']\n",
    "\n",
    "　 　　　词汇表：['cute', 'love', 'help', 'garbage', 'quit', 'I', 'problems', 'is', 'park', 'stop', 'flea', 'dalmation', 'licks', 'food', 'not', 'him', 'buying', 'posting', 'has', 'worthless', 'ate', 'to', 'maybe', 'please', 'dog', 'how', 'stupid', 'so', 'take', 'mr', 'steak', 'my']\n",
    "\n",
    "　　　　向量化结果：[0 1 0 0 0 0 0 0 0 0 0 1 0 0 0 0 0 0 0 0 0 0 0 0 0 0 0 0 0 0 0 1]"
   ]
  },
  {
   "cell_type": "code",
   "execution_count": 41,
   "metadata": {
    "collapsed": false
   },
   "outputs": [
    {
     "name": "stdout",
     "output_type": "stream",
     "text": [
      "the word: love is not in my Vocabulary!\n",
      "the word: dalmation is not in my Vocabulary!\n"
     ]
    }
   ],
   "source": [
    "def setOfWords2Vec(vocabList, inputSet):\n",
    "    returnVec = [0]*len(vocabList)\n",
    "    for word in inputSet:\n",
    "        if word in vocabList:\n",
    "            returnVec[vocabList.index(word)] = 1\n",
    "        else: print(\"the word: %s is not in my Vocabulary!\" % word)\n",
    "    return returnVec\n",
    "\n",
    "testset =  ['love', 'my', 'dalmation']\n",
    "returnVec = setOfWords2Vec(vocabSet, testset)"
   ]
  },
  {
   "cell_type": "markdown",
   "metadata": {},
   "source": [
    "## 4 训练模型：在训练样本中计算先验概率 p(Ci) 和 条件概率 p(x,y | Ci)，本实例有0和1两个类别，所以返回p(x,y | 0)，p(x,y | 1)和p(Ci)。\n",
    "\n",
    "　　此处有两个改进的地方：\n",
    "\n",
    "　　　　（1）若有的类别没有出现，其概率就是0，会十分影响分类器的性能。所以采取各类别默认1次累加，总类别（两类）次数2，这样不影响相对大小。\n",
    "\n",
    "　　　　（2）若很小是数字相乘，则结果会更小，再四舍五入存在误差，而且会造成下溢出。采取取log，乘法变为加法，并且相对大小趋势不变。"
   ]
  },
  {
   "cell_type": "code",
   "execution_count": 52,
   "metadata": {
    "collapsed": true
   },
   "outputs": [],
   "source": [
    "def trainNB0(trainMatrix,trainCategory):\n",
    "    numTrainDocs = len(trainMatrix)\n",
    "    numWords = len(trainMatrix[0])\n",
    "    pAbusive = sum(trainCategory)/float(numTrainDocs)\n",
    "    p0Num = ones(numWords); p1Num = ones(numWords)      #change to ones() \n",
    "    p0Denom = 2.0; p1Denom = 2.0                        #change to 2.0\n",
    "    for i in range(numTrainDocs):\n",
    "        if trainCategory[i] == 1:          \n",
    "            p1Num += trainMatrix[i]\n",
    "            p1Denom += sum(trainMatrix[i])\n",
    "        else:          \n",
    "            p0Num += trainMatrix[i]\n",
    "            p0Denom += sum(trainMatrix[i])\n",
    "    p1Vect = log(p1Num/p1Denom)          #change to log()\n",
    "    p0Vect = log(p0Num/p0Denom)          #change to log()\n",
    "    return p0Vect,p1Vect,pAbusive"
   ]
  },
  {
   "cell_type": "markdown",
   "metadata": {},
   "source": [
    "## 5 分类：根据计算后，哪个类别的概率大，则属于哪个类别。"
   ]
  },
  {
   "cell_type": "code",
   "execution_count": 26,
   "metadata": {
    "collapsed": true
   },
   "outputs": [],
   "source": [
    "def classifyNB(vec2Classify, p0Vec, p1Vec, pClass1):\n",
    "    p1 = sum(vec2Classify * p1Vec) + log(pClass1)    #element-wise mult\n",
    "    p0 = sum(vec2Classify * p0Vec) + log(1.0 - pClass1)\n",
    "    if p1 > p0:\n",
    "        return 1\n",
    "    else: \n",
    "        return 0"
   ]
  },
  {
   "cell_type": "markdown",
   "metadata": {},
   "source": [
    "## 6 测试函数\n",
    "\n",
    "1. 加载数据集+提炼词表；\n",
    "2. 训练模型：根据六条训练集计算先验概率和条件概率；\n",
    "3. 测试模型：对训练两条测试文本进行分类。"
   ]
  },
  {
   "cell_type": "code",
   "execution_count": 49,
   "metadata": {
    "collapsed": false
   },
   "outputs": [
    {
     "name": "stdout",
     "output_type": "stream",
     "text": [
      "1 Underwater Basket Weaving 010\n",
      "\n",
      "0 Most colleges have required courses that you need to take depending on your major or other various factors. \n",
      "\n",
      "0 It differs between colleges, some of my friends go to different school and they have to take classes ive never heard of. Also depends on the major of the student\n",
      "\n",
      "0 No matter what your major is, you should try to take a personal finance class. It teaches you really valuable skills that translate across majors, like the basics of investing your income and saving for retirement.\n",
      "\n",
      "1 I wish\n",
      "\n",
      "0 It depends on the institution and your major. Typically in my state an english, math, gender studies, and history class is all needed. Also a basic science course. We are also now mandated to take an online course in sexual assault and consent and I am interested to see how that plays out\n",
      "\n",
      "1 What state requires gender studies?\n",
      "\n",
      "0 Wisconsin. At least for their state schools which are typically more liberal arts than technical\n",
      "\n",
      "0 I go to a Jesuit University in the Philippines and every student, no matter the course, goes through the same core curriculum which gets up to about half your total load. For most courses, freshman year is nothing but those core subjects and nothing to do with your major. \n",
      "\n",
      "0 In mostly the last two years, you take four classes in philosophy and four in theology. The same eight classes for everyone. For philosophy, it\\'s philosophy of the human person I and II, philosophy of religion, and then ethics. For theology it\\'s doing \"an introduction to doing catholic theology\", \"marriage, family life and sexuality in a catholic perspective\", \"a theology of the catholic social vision\", and \"the catholic commitment of today\\'s filipino: a synthesis.\"\n",
      "\n",
      "0 Thankfully those two departments are considered to have the strongest faculties, and the good professors are beloved and often inspiring even to their atheist students. Two of the most popular from the theology department are pretty strongly liberal. One introduces himself as \"a catholic, despite what the bishops may tell you\" and is fully pro LGBT (supports gay marriage, for example) and pro choice. It\\'s very interesting to see how they articulate their views theologically.\n",
      "\n",
      "0 Earlier on it's basically more high school stuff, like literature, history, math and natural sciences. That's standard for most universities in the country because basic schooling has up until last year not covered enough.\n",
      "\n",
      "0 Anything Humanities... Look for the good professors. It's a really great way to work on your critical thinking skills. Those classes have brought me so much in my professional life.\n",
      "\n",
      "0 It's not real college unless you go through a few courses lf linear algebra, calculus and multi-variable calculus.\n",
      "\n",
      "0 I honestly have a really hard time understanding what people do in college if they don't have any classes involving math. \n",
      "\n",
      "0 At my college it was so obvious who were studying what in the study areas. People who studied to become teachers and stuff would leave between 0-0PM, lawyers and economists around 5PM and me and the rest of the engineers would head home when we were being chased out.\n",
      "\n",
      "0 Eh, i disagree. Tons of majors have 1 need for calculus outside of the problem solving ability aspect. 91% of the time simple trig/algebra will get you through day to day. And if you never take a physics class it feels even more pointless. \n",
      "\n",
      "0 I know, but I have a really hard time to wrap my head around what peoplr do in college then. In my head it doesn't feel like a real proper education unless you go through at least a bit of math. \n",
      "\n",
      "0 I can't wrap my head around that people go to college just to read and discuss books and write a few qualitative reports.\n",
      "\n",
      "0 I can understand that. Im finishing up biochem but I also read a lot. So I enjoy the problem solving and learning processes and functions and creating, but i also get the desire to learn and understand and interpret something that isn't quantitative and not necessarily concrete. Different strokes, sounds like you're meant to be an engineer though\n",
      "['friends', 'my', 'take'] classified as:  1\n",
      "the word: stupid is not in my Vocabulary!\n",
      "the word: garbage is not in my Vocabulary!\n",
      "['stupid', 'garbage'] classified as:  0\n"
     ]
    }
   ],
   "source": [
    "def testingNB():\n",
    "    listOPosts,listClasses = loadDataSet()\n",
    "    myVocabList = createVocabList(listOPosts)\n",
    "    trainMat=[]\n",
    "    for postinDoc in listOPosts:\n",
    "        trainMat.append(setOfWords2Vec(myVocabList, postinDoc))\n",
    "    p0V,p1V,pAb = trainNB0(array(trainMat),array(listClasses))\n",
    "    testEntry = ['friends', 'my', 'take']\n",
    "    thisDoc = array(setOfWords2Vec(myVocabList, testEntry))\n",
    "    print(testEntry,'classified as: ',classifyNB(thisDoc,p0V,p1V,pAb))\n",
    "    testEntry = ['stupid', 'garbage']\n",
    "    thisDoc = array(setOfWords2Vec(myVocabList, testEntry))\n",
    "    print(testEntry,'classified as: ',classifyNB(thisDoc,p0V,p1V,pAb))\n",
    "testingNB()"
   ]
  },
  {
   "cell_type": "markdown",
   "metadata": {},
   "source": [
    "缺点：词表只能记录词汇是否出现，不能体现这个词汇出现的次数。改进方法：采用词袋模型，见下面垃圾邮件分类实战。"
   ]
  },
  {
   "cell_type": "markdown",
   "metadata": {},
   "source": [
    "# 四 算法的MapReduce形式\n",
    "\n",
    "> 本人正在把这个贝叶斯分类算法转换成分布式算法，初步思想是，可以把贝叶斯算法写成mapreduce模式，map负责把数据集划分成键值对格式，类序号为key，属 性向量为value，reduce进行汇总每类的先验概率和条件概率，主server汇总所有类的统计量。"
   ]
  }
 ],
 "metadata": {
  "kernelspec": {
   "display_name": "Python 3",
   "language": "python",
   "name": "python3"
  },
  "language_info": {
   "codemirror_mode": {
    "name": "ipython",
    "version": 3
   },
   "file_extension": ".py",
   "mimetype": "text/x-python",
   "name": "python",
   "nbconvert_exporter": "python",
   "pygments_lexer": "ipython3",
   "version": "3.6.0"
  }
 },
 "nbformat": 4,
 "nbformat_minor": 2
}
